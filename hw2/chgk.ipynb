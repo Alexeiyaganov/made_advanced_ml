{
  "nbformat": 4,
  "nbformat_minor": 0,
  "metadata": {
    "colab": {
      "provenance": []
    },
    "kernelspec": {
      "name": "python3",
      "display_name": "Python 3"
    },
    "language_info": {
      "name": "python"
    }
  },
  "cells": [
    {
      "cell_type": "code",
      "execution_count": null,
      "metadata": {
        "id": "jJos9TEmIjAp"
      },
      "outputs": [],
      "source": [
        "#--coding: UTF-8 --\n",
        "import pandas as pd"
      ]
    },
    {
      "cell_type": "code",
      "source": [
        "df_p = pd.DataFrame(pd.read_pickle('players.pkl')).T\n",
        "# df_r = pd.DataFrame(pd.read_pickle('results.pkl')).T \n",
        "df_t = pd.DataFrame(pd.read_pickle('tournaments.pkl')).T"
      ],
      "metadata": {
        "colab": {
          "base_uri": "https://localhost:8080/",
          "height": 345
        },
        "id": "-j-MVUogIrqF",
        "outputId": "9c1fc921-5266-4029-b211-1c2f5c36f405"
      },
      "execution_count": null,
      "outputs": [
        {
          "output_type": "error",
          "ename": "ValueError",
          "evalue": "ignored",
          "traceback": [
            "\u001b[0;31m---------------------------------------------------------------------------\u001b[0m",
            "\u001b[0;31mValueError\u001b[0m                                Traceback (most recent call last)",
            "\u001b[0;32m<ipython-input-35-1c800a8831c2>\u001b[0m in \u001b[0;36m<cell line: 2>\u001b[0;34m()\u001b[0m\n\u001b[1;32m      1\u001b[0m \u001b[0;31m# df_p = pd.DataFrame(pd.read_pickle('players.pkl')).T\u001b[0m\u001b[0;34m\u001b[0m\u001b[0;34m\u001b[0m\u001b[0m\n\u001b[0;32m----> 2\u001b[0;31m \u001b[0mdf_r\u001b[0m \u001b[0;34m=\u001b[0m \u001b[0mpd\u001b[0m\u001b[0;34m.\u001b[0m\u001b[0mDataFrame\u001b[0m\u001b[0;34m(\u001b[0m\u001b[0mpd\u001b[0m\u001b[0;34m.\u001b[0m\u001b[0mread_pickle\u001b[0m\u001b[0;34m(\u001b[0m\u001b[0;34m'results.pkl'\u001b[0m\u001b[0;34m)\u001b[0m\u001b[0;34m)\u001b[0m\u001b[0;34m.\u001b[0m\u001b[0mT\u001b[0m\u001b[0;34m\u001b[0m\u001b[0;34m\u001b[0m\u001b[0m\n\u001b[0m\u001b[1;32m      3\u001b[0m \u001b[0;31m# df_t = pd.DataFrame(pd.read_pickle('tournaments.pkl')).T\u001b[0m\u001b[0;34m\u001b[0m\u001b[0;34m\u001b[0m\u001b[0m\n",
            "\u001b[0;32m/usr/local/lib/python3.9/dist-packages/pandas/core/frame.py\u001b[0m in \u001b[0;36m__init__\u001b[0;34m(self, data, index, columns, dtype, copy)\u001b[0m\n\u001b[1;32m    662\u001b[0m         \u001b[0;32melif\u001b[0m \u001b[0misinstance\u001b[0m\u001b[0;34m(\u001b[0m\u001b[0mdata\u001b[0m\u001b[0;34m,\u001b[0m \u001b[0mdict\u001b[0m\u001b[0;34m)\u001b[0m\u001b[0;34m:\u001b[0m\u001b[0;34m\u001b[0m\u001b[0;34m\u001b[0m\u001b[0m\n\u001b[1;32m    663\u001b[0m             \u001b[0;31m# GH#38939 de facto copy defaults to False only in non-dict cases\u001b[0m\u001b[0;34m\u001b[0m\u001b[0;34m\u001b[0m\u001b[0m\n\u001b[0;32m--> 664\u001b[0;31m             \u001b[0mmgr\u001b[0m \u001b[0;34m=\u001b[0m \u001b[0mdict_to_mgr\u001b[0m\u001b[0;34m(\u001b[0m\u001b[0mdata\u001b[0m\u001b[0;34m,\u001b[0m \u001b[0mindex\u001b[0m\u001b[0;34m,\u001b[0m \u001b[0mcolumns\u001b[0m\u001b[0;34m,\u001b[0m \u001b[0mdtype\u001b[0m\u001b[0;34m=\u001b[0m\u001b[0mdtype\u001b[0m\u001b[0;34m,\u001b[0m \u001b[0mcopy\u001b[0m\u001b[0;34m=\u001b[0m\u001b[0mcopy\u001b[0m\u001b[0;34m,\u001b[0m \u001b[0mtyp\u001b[0m\u001b[0;34m=\u001b[0m\u001b[0mmanager\u001b[0m\u001b[0;34m)\u001b[0m\u001b[0;34m\u001b[0m\u001b[0;34m\u001b[0m\u001b[0m\n\u001b[0m\u001b[1;32m    665\u001b[0m         \u001b[0;32melif\u001b[0m \u001b[0misinstance\u001b[0m\u001b[0;34m(\u001b[0m\u001b[0mdata\u001b[0m\u001b[0;34m,\u001b[0m \u001b[0mma\u001b[0m\u001b[0;34m.\u001b[0m\u001b[0mMaskedArray\u001b[0m\u001b[0;34m)\u001b[0m\u001b[0;34m:\u001b[0m\u001b[0;34m\u001b[0m\u001b[0;34m\u001b[0m\u001b[0m\n\u001b[1;32m    666\u001b[0m             \u001b[0;32mimport\u001b[0m \u001b[0mnumpy\u001b[0m\u001b[0;34m.\u001b[0m\u001b[0mma\u001b[0m\u001b[0;34m.\u001b[0m\u001b[0mmrecords\u001b[0m \u001b[0;32mas\u001b[0m \u001b[0mmrecords\u001b[0m\u001b[0;34m\u001b[0m\u001b[0;34m\u001b[0m\u001b[0m\n",
            "\u001b[0;32m/usr/local/lib/python3.9/dist-packages/pandas/core/internals/construction.py\u001b[0m in \u001b[0;36mdict_to_mgr\u001b[0;34m(data, index, columns, dtype, typ, copy)\u001b[0m\n\u001b[1;32m    491\u001b[0m             \u001b[0marrays\u001b[0m \u001b[0;34m=\u001b[0m \u001b[0;34m[\u001b[0m\u001b[0mx\u001b[0m\u001b[0;34m.\u001b[0m\u001b[0mcopy\u001b[0m\u001b[0;34m(\u001b[0m\u001b[0;34m)\u001b[0m \u001b[0;32mif\u001b[0m \u001b[0mhasattr\u001b[0m\u001b[0;34m(\u001b[0m\u001b[0mx\u001b[0m\u001b[0;34m,\u001b[0m \u001b[0;34m\"dtype\"\u001b[0m\u001b[0;34m)\u001b[0m \u001b[0;32melse\u001b[0m \u001b[0mx\u001b[0m \u001b[0;32mfor\u001b[0m \u001b[0mx\u001b[0m \u001b[0;32min\u001b[0m \u001b[0marrays\u001b[0m\u001b[0;34m]\u001b[0m\u001b[0;34m\u001b[0m\u001b[0;34m\u001b[0m\u001b[0m\n\u001b[1;32m    492\u001b[0m \u001b[0;34m\u001b[0m\u001b[0m\n\u001b[0;32m--> 493\u001b[0;31m     \u001b[0;32mreturn\u001b[0m \u001b[0marrays_to_mgr\u001b[0m\u001b[0;34m(\u001b[0m\u001b[0marrays\u001b[0m\u001b[0;34m,\u001b[0m \u001b[0mcolumns\u001b[0m\u001b[0;34m,\u001b[0m \u001b[0mindex\u001b[0m\u001b[0;34m,\u001b[0m \u001b[0mdtype\u001b[0m\u001b[0;34m=\u001b[0m\u001b[0mdtype\u001b[0m\u001b[0;34m,\u001b[0m \u001b[0mtyp\u001b[0m\u001b[0;34m=\u001b[0m\u001b[0mtyp\u001b[0m\u001b[0;34m,\u001b[0m \u001b[0mconsolidate\u001b[0m\u001b[0;34m=\u001b[0m\u001b[0mcopy\u001b[0m\u001b[0;34m)\u001b[0m\u001b[0;34m\u001b[0m\u001b[0;34m\u001b[0m\u001b[0m\n\u001b[0m\u001b[1;32m    494\u001b[0m \u001b[0;34m\u001b[0m\u001b[0m\n\u001b[1;32m    495\u001b[0m \u001b[0;34m\u001b[0m\u001b[0m\n",
            "\u001b[0;32m/usr/local/lib/python3.9/dist-packages/pandas/core/internals/construction.py\u001b[0m in \u001b[0;36marrays_to_mgr\u001b[0;34m(arrays, columns, index, dtype, verify_integrity, typ, consolidate)\u001b[0m\n\u001b[1;32m    116\u001b[0m         \u001b[0;31m# figure out the index, if necessary\u001b[0m\u001b[0;34m\u001b[0m\u001b[0;34m\u001b[0m\u001b[0m\n\u001b[1;32m    117\u001b[0m         \u001b[0;32mif\u001b[0m \u001b[0mindex\u001b[0m \u001b[0;32mis\u001b[0m \u001b[0;32mNone\u001b[0m\u001b[0;34m:\u001b[0m\u001b[0;34m\u001b[0m\u001b[0;34m\u001b[0m\u001b[0m\n\u001b[0;32m--> 118\u001b[0;31m             \u001b[0mindex\u001b[0m \u001b[0;34m=\u001b[0m \u001b[0m_extract_index\u001b[0m\u001b[0;34m(\u001b[0m\u001b[0marrays\u001b[0m\u001b[0;34m)\u001b[0m\u001b[0;34m\u001b[0m\u001b[0;34m\u001b[0m\u001b[0m\n\u001b[0m\u001b[1;32m    119\u001b[0m         \u001b[0;32melse\u001b[0m\u001b[0;34m:\u001b[0m\u001b[0;34m\u001b[0m\u001b[0;34m\u001b[0m\u001b[0m\n\u001b[1;32m    120\u001b[0m             \u001b[0mindex\u001b[0m \u001b[0;34m=\u001b[0m \u001b[0mensure_index\u001b[0m\u001b[0;34m(\u001b[0m\u001b[0mindex\u001b[0m\u001b[0;34m)\u001b[0m\u001b[0;34m\u001b[0m\u001b[0;34m\u001b[0m\u001b[0m\n",
            "\u001b[0;32m/usr/local/lib/python3.9/dist-packages/pandas/core/internals/construction.py\u001b[0m in \u001b[0;36m_extract_index\u001b[0;34m(data)\u001b[0m\n\u001b[1;32m    664\u001b[0m             \u001b[0mlengths\u001b[0m \u001b[0;34m=\u001b[0m \u001b[0mlist\u001b[0m\u001b[0;34m(\u001b[0m\u001b[0mset\u001b[0m\u001b[0;34m(\u001b[0m\u001b[0mraw_lengths\u001b[0m\u001b[0;34m)\u001b[0m\u001b[0;34m)\u001b[0m\u001b[0;34m\u001b[0m\u001b[0;34m\u001b[0m\u001b[0m\n\u001b[1;32m    665\u001b[0m             \u001b[0;32mif\u001b[0m \u001b[0mlen\u001b[0m\u001b[0;34m(\u001b[0m\u001b[0mlengths\u001b[0m\u001b[0;34m)\u001b[0m \u001b[0;34m>\u001b[0m \u001b[0;36m1\u001b[0m\u001b[0;34m:\u001b[0m\u001b[0;34m\u001b[0m\u001b[0;34m\u001b[0m\u001b[0m\n\u001b[0;32m--> 666\u001b[0;31m                 \u001b[0;32mraise\u001b[0m \u001b[0mValueError\u001b[0m\u001b[0;34m(\u001b[0m\u001b[0;34m\"All arrays must be of the same length\"\u001b[0m\u001b[0;34m)\u001b[0m\u001b[0;34m\u001b[0m\u001b[0;34m\u001b[0m\u001b[0m\n\u001b[0m\u001b[1;32m    667\u001b[0m \u001b[0;34m\u001b[0m\u001b[0m\n\u001b[1;32m    668\u001b[0m             \u001b[0;32mif\u001b[0m \u001b[0mhave_dicts\u001b[0m\u001b[0;34m:\u001b[0m\u001b[0;34m\u001b[0m\u001b[0;34m\u001b[0m\u001b[0m\n",
            "\u001b[0;31mValueError\u001b[0m: All arrays must be of the same length"
          ]
        }
      ]
    },
    {
      "cell_type": "code",
      "source": [
        "dft_train = df_t[df_t['dateStart'].apply(lambda x: x[:4])=='2019']\n",
        "dft_test = df_t[df_t['dateStart'].apply(lambda x: x[:4])=='2020']"
      ],
      "metadata": {
        "id": "xFWxLUiQK40o"
      },
      "execution_count": null,
      "outputs": []
    },
    {
      "cell_type": "code",
      "source": [
        "dft_train.to_csv('train_tours.csv')\n",
        "dft_test.to_csv('test_tours.csv')\n",
        "\n",
        "dfr_train.to_csv('train_res.csv')\n",
        "dfr_test.to_csv('test_re.csv')\n",
        "\n",
        "# dft_train = pd.read_csv('train_tours.csv')\n",
        "# dft_test = pd.read_csv('test_tours.csv')"
      ],
      "metadata": {
        "id": "SslEc8nkMUFT"
      },
      "execution_count": null,
      "outputs": []
    },
    {
      "cell_type": "code",
      "source": [
        "!tail results.pkl"
      ],
      "metadata": {
        "colab": {
          "base_uri": "https://localhost:8080/"
        },
        "id": "7g5Acbic87_x",
        "outputId": "0143f981-d1fd-4962-8534-1be23a9fbdae"
      },
      "execution_count": null,
      "outputs": [
        {
          "output_type": "stream",
          "name": "stdout",
          "text": [
            "\u0000\u0000\u0000Романr�a\u0015\u0000j�:\u0015\u0000j>\u0002\u0000\u0000j�:\u0015\u0000X\u0010\u0000\u0000\u0000Ивановичr�a\u0015\u0000uueu}r�a\u0015\u0000(jp:\u0015\u0000}r�a\u0015\u0000(jr:\u0015\u0000M|\u001djs:\u0015\u0000X\u0006\u0000\u0000\u0000Cleverr�a\u0015\u0000ju:\u0015\u0000}r�a\u0015\u0000(jr:\u0015\u0000M[\u0001js:\u0015\u0000X\u001f\u0000\u0000\u0000Усолье-Сибирскоеr�a\u0015\u0000uujx:\u0015\u0000Njy:\u0015\u0000}r�a\u0015\u0000(js:\u0015\u0000X\u0006\u0000\u0000\u0000Cleverr�a\u0015\u0000ju:\u0015\u0000}r�a\u0015\u0000(jr:\u0015\u0000M[\u0001js:\u0015\u0000X\u001f\u0000\u0000\u0000Усолье-Сибирскоеr�a\u0015\u0000uuj~:\u0015\u0000K\u0000j:\u0015\u0000Nj�:\u0015\u0000G@m\u0010\u0000\u0000\u0000\u0000\u0000j�:\u0015\u0000]r�a\u0015\u0000j�:\u0015\u0000]r�a\u0015\u0000j�:\u0015\u0000]r�a\u0015\u0000(}r�a\u0015\u0000(j�:\u0015\u0000X\u0002\u0000\u0000\u0000Бr�a\u0015\u0000j�:\u0015\u0000K\u0000j�:\u0015\u0000K\u0000j�:\u0015\u0000}r�a\u0015\u0000(jr:\u0015\u0000Mt;js:\u0015\u0000X\f\u0000\u0000\u0000Никитаr�a\u0015\u0000j�:\u0015\u0000X\u0014\u0000\u0000\u0000Валерьевичr�a\u0015\u0000j�:\u0015\u0000X\u000e\u0000\u0000\u0000Колосовr�a\u0015\u0000uu}r�a\u0015\u0000(j�:\u0015\u0000X\u0002\u0000\u0000\u0000Бr�a\u0015\u0000j�:\u0015\u0000K\u0000j�:\u0015\u0000K\u0000j�:\u0015\u0000}r�a\u0015\u0000(jr:\u0015\u0000MF�js:\u0015\u0000X\u0012\u0000\u0000\u0000Анастасияr�a\u0015\u0000j�:\u0015\u0000X\u0012\u0000\u0000\u0000Андреевнаr�a\u0015\u0000j�:\u0015\u0000X\u0012\u0000\u0000\u0000Кириченкоr�a\u0015\u0000uu}r�a\u0015\u0000(j�:\u0015\u0000X\u0002\u0000\u0000\u0000Бr�a\u0015\u0000j�:\u0015\u0000K\u0000j�:\u0015\u0000K\u0000j�:\u0015\u0000}r�a\u0015\u0000(jr:\u0015\u0000MG�js:\u0015\u0000X\b\u0000\u0000\u0000Вераr�a\u0015\u0000j�:\u0015\u0000X\u0018\u0000\u0000\u0000Владимировнаr�a\u0015\u0000j�:\u0015\u0000X\u0010\u0000\u0000\u0000Выбороваr�a\u0015\u0000uu}r�a\u0015\u0000(j�:\u0015\u0000X\u0002\u0000\u0000\u0000Бr�a\u0015\u0000j�:\u0015\u0000K\u0000j�:\u0015\u0000K\u0000j�:\u0015\u0000}r�a\u0015\u0000(jr:\u0015\u0000MH�js:\u0015\u0000X\u0010\u0000\u0000\u0000Владимирr�a\u0015\u0000j�:\u0015\u0000j>\u0002\u0000\u0000j�:\u0015\u0000X\f\u0000\u0000\u0000Шушлинr�a\u0015\u0000uu}r�a\u0015\u0000(j�:\u0015\u0000X\u0002\u0000\u0000\u0000Бr�a\u0015\u0000j�:\u0015\u0000K\u0000j�:\u0015\u0000K\u0000j�:\u0015\u0000}r�a\u0015\u0000(jr:\u0015\u0000MI�js:\u0015\u0000X\n",
            "\u0000\u0000\u0000Павелr�a\u0015\u0000j�:\u0015\u0000j>\u0002\u0000\u0000j�:\u0015\u0000X\u0010\u0000\u0000\u0000Чалбышевr�a\u0015\u0000uu}r�a\u0015\u0000(j�:\u0015\u0000X\u0002\u0000\u0000\u0000Бr�a\u0015\u0000j�:\u0015\u0000K\u0000j�:\u0015\u0000K\u0000j�:\u0015\u0000}r�a\u0015\u0000(jr:\u0015\u0000MJ�js:\u0015\u0000X\u0012\u0000\u0000\u0000Святославr�a\u0015\u0000j�:\u0015\u0000X\u0014\u0000\u0000\u0000Дмитриевичr�a\u0015\u0000j�:\u0015\u0000X\u000e\u0000\u0000\u0000Бегуновr�a\u0015\u0000uueu}r�a\u0015\u0000(jp:\u0015\u0000}r�a\u0015\u0000(jr:\u0015\u0000M� js:\u0015\u0000X\u0019\u0000\u0000\u0000Шпашибо, Веня!r�a\u0015\u0000ju:\u0015\u0000}r�a\u0015\u0000(jr:\u0015\u0000K�js:\u0015\u0000X\b\u0000\u0000\u0000Омскr�a\u0015\u0000uujx:\u0015\u0000Njy:\u0015\u0000}r�a\u0015\u0000(js:\u0015\u0000X\u0019\u0000\u0000\u0000Шпашибо, Веня!r\u0000b\u0015\u0000ju:\u0015\u0000}r\u0001b\u0015\u0000(jr:\u0015\u0000K�js:\u0015\u0000X\b\u0000\u0000\u0000Омскr\u0002b\u0015\u0000uuj~:\u0015\u0000K\u0000j:\u0015\u0000Nj�:\u0015\u0000G@m\u0010\u0000\u0000\u0000\u0000\u0000j�:\u0015\u0000]r\u0003b\u0015\u0000j�:\u0015\u0000]r\u0004b\u0015\u0000j�:\u0015\u0000]r\u0005b\u0015\u0000(}r\u0006b\u0015\u0000(j�:\u0015\u0000X\u0002\u0000\u0000\u0000Бr\u0007b\u0015\u0000j�:\u0015\u0000K\u0000j�:\u0015\u0000K\u0000j�:\u0015\u0000}r\bb\u0015\u0000(jr:\u0015\u0000M:*js:\u0015\u0000X\n",
            "\u0000\u0000\u0000Антонr\tb\u0015\u0000j�:\u0015\u0000X\u0016\u0000\u0000\u0000Анатольевичr\n",
            "b\u0015\u0000j�:\u0015\u0000X\f\u0000\u0000\u0000Жебрунr\u000bb\u0015\u0000uu}r\fb\u0015\u0000(j�:\u0015\u0000X\u0002\u0000\u0000\u0000Бr\rb\u0015\u0000j�:\u0015\u0000K\u0000j�:\u0015\u0000K\u0000j�:\u0015\u0000}r\u000eb\u0015\u0000(jr:\u0015\u0000M[<js:\u0015\u0000X\n",
            "\u0000\u0000\u0000Денисr\u000fb\u0015\u0000j�:\u0015\u0000X\u001a\u0000\u0000\u0000Александровичr\u0010b\u0015\u0000j�:\u0015\u0000X\u0012\u0000\u0000\u0000Коноваловr\u0011b\u0015\u0000uu}r\u0012b\u0015\u0000(j�:\u0015\u0000X\u0002\u0000\u0000\u0000Бr\u0013b\u0015\u0000j�:\u0015\u0000K\u0000j�:\u0015\u0000K\u0000j�:\u0015\u0000}r\u0014b\u0015\u0000(jr:\u0015\u0000M8Gjs:\u0015\u0000X\u000e\u0000\u0000\u0000Валерияr\u0015b\u0015\u0000j�:\u0015\u0000j>\u0002\u0000\u0000j�:\u0015\u0000X\u0012\u0000\u0000\u0000Леонтьеваr\u0016b\u0015\u0000uu}r\u0017b\u0015\u0000(j�:\u0015\u0000X\u0002\u0000\u0000\u0000Бr\u0018b\u0015\u0000j�:\u0015\u0000K\u0000j�:\u0015\u0000K\u0000j�:\u0015\u0000}r\u0019b\u0015\u0000(jr:\u0015\u0000Mmojs:\u0015\u0000X\u000e\u0000\u0000\u0000Евгенийr\u001ab\u0015\u0000j�:\u0015\u0000X\u001a\u0000\u0000\u0000Александровичr\u001bb\u0015\u0000j�:\u0015\u0000X\u000e\u0000\u0000\u0000Седашовr\u001cb\u0015\u0000uu}r\u001db\u0015\u0000(j�:\u0015\u0000X\u0002\u0000\u0000\u0000Бr\u001eb\u0015\u0000j�:\u0015\u0000K\u0000j�:\u0015\u0000K\u0000j�:\u0015\u0000}r\u001fb\u0015\u0000(jr:\u0015\u0000M�yjs:\u0015\u0000X\u0012\u0000\u0000\u0000Александрr b\u0015\u0000j�:\u0015\u0000X\u001a\u0000\u0000\u0000Александровичr!b\u0015\u0000j�:\u0015\u0000X\u000e\u0000\u0000\u0000Тараникr\"b\u0015\u0000uu}r#b\u0015\u0000(j�:\u0015\u0000X\u0002\u0000\u0000\u0000Бr$b\u0015\u0000j�:\u0015\u0000K\u0000j�:\u0015\u0000K\u0000j�:\u0015\u0000}r%b\u0015\u0000(jr:\u0015\u0000Mo�js:\u0015\u0000X\u0012\u0000\u0000\u0000Маргаритаr&b\u0015\u0000j�:\u0015\u0000X\u0014\u0000\u0000\u0000Ильдаровнаr'b\u0015\u0000j�:\u0015\u0000X\u000e\u0000\u0000\u0000Ниязоваr(b\u0015\u0000uueu}r)b\u0015\u0000(jp:\u0015\u0000}r*b\u0015\u0000(jr:\u0015\u0000M� js:\u0015\u0000X\f\u0000\u0000\u0000Легионr+b\u0015\u0000ju:\u0015\u0000}r,b\u0015\u0000(jr:\u0015\u0000M\u0014\u0001js:\u0015\u0000X\n",
            "\u0000\u0000\u0000Ровноr-b\u0015\u0000uujx:\u0015\u0000Njy:\u0015\u0000}r.b\u0015\u0000(js:\u0015\u0000X\f\u0000\u0000\u0000Легионr/b\u0015\u0000ju:\u0015\u0000}r0b\u0015\u0000(jr:\u0015\u0000M\u0014\u0001js:\u0015\u0000X\n",
            "\u0000\u0000\u0000Ровноr1b\u0015\u0000uuj~:\u0015\u0000K\u0000j:\u0015\u0000Nj�:\u0015\u0000G@m\u0010\u0000\u0000\u0000\u0000\u0000j�:\u0015\u0000]r2b\u0015\u0000j�:\u0015\u0000]r3b\u0015\u0000j�:\u0015\u0000]r4b\u0015\u0000(}r5b\u0015\u0000(j�:\u0015\u0000X\u0002\u0000\u0000\u0000Бr6b\u0015\u0000j�:\u0015\u0000K\u0000j�:\u0015\u0000K\u0000j�:\u0015\u0000}r7b\u0015\u0000(jr:\u0015\u0000M�.js:\u0015\u0000X\f\u0000\u0000\u0000Сергейr8b\u0015\u0000j�:\u0015\u0000X\u0016\u0000\u0000\u0000Анатольевичr9b\u0015\u0000j�:\u0015\u0000X\u000e\u0000\u0000\u0000Зубриюкr:b\u0015\u0000uu}r;b\u0015\u0000(j�:\u0015\u0000X\u0002\u0000\u0000\u0000Бr<b\u0015\u0000j�:\u0015\u0000K\u0000j�:\u0015\u0000K\u0000j�:\u0015\u0000}r=b\u0015\u0000(jr:\u0015\u0000M]=js:\u0015\u0000X\u000e\u0000\u0000\u0000Василийr>b\u0015\u0000j�:\u0015\u0000X\u0014\u0000\u0000\u0000Васильевичr?b\u0015\u0000j�:\u0015\u0000X\u0012\u0000\u0000\u0000Корнийчукr@b\u0015\u0000uu}rAb\u0015\u0000(j�:\u0015\u0000X\u0002\u0000\u0000\u0000БrBb\u0015\u0000j�:\u0015\u0000K\u0000j�:\u0015\u0000K\u0000j�:\u0015\u0000}rCb\u0015\u0000(jr:\u0015\u0000M\u0000Wjs:\u0015\u0000X\n",
            "\u0000\u0000\u0000МарияrDb\u0015\u0000j�:\u0015\u0000X\u000e\u0000\u0000\u0000ЮрьевнаrEb\u0015\u0000j�:\u0015\u0000X\u0016\u0000\u0000\u0000НапримероваrFb\u0015\u0000uu}rGb\u0015\u0000(j�:\u0015\u0000X\u0002\u0000\u0000\u0000БrHb\u0015\u0000j�:\u0015\u0000K\u0000j�:\u0015\u0000K\u0000j�:\u0015\u0000}rIb\u0015\u0000(jr:\u0015\u0000M\u000byjs:\u0015\u0000X\f\u0000\u0000\u0000МаксимrJb\u0015\u0000j�:\u0015\u0000X\u0016\u0000\u0000\u0000АнатольевичrKb\u0015\u0000j�:\u0015\u0000X\u000e\u0000\u0000\u0000СахарукrLb\u0015\u0000uueu}rMb\u0015\u0000(jp:\u0015\u0000}rNb\u0015\u0000(jr:\u0015\u0000M� js:\u0015\u0000X\u000e\u0000\u0000\u0000ВиталияrOb\u0015\u0000ju:\u0015\u0000}rPb\u0015\u0000(jr:\u0015\u0000K�js:\u0015\u0000X\u0016\u0000\u0000\u0000КалининградrQb\u0015\u0000uujx:\u0015\u0000Njy:\u0015\u0000}rRb\u0015\u0000(js:\u0015\u0000X\u000e\u0000\u0000\u0000ВиталияrSb\u0015\u0000ju:\u0015\u0000}rTb\u0015\u0000(jr:\u0015\u0000K�js:\u0015\u0000X\u0016\u0000\u0000\u0000КалининградrUb\u0015\u0000uuj~:\u0015\u0000K\u0000j:\u0015\u0000Nj�:\u0015\u0000G@m\u0010\u0000\u0000\u0000\u0000\u0000j�:\u0015\u0000]rVb\u0015\u0000j�:\u0015\u0000]rWb\u0015\u0000j�:\u0015\u0000]rXb\u0015\u0000(}rYb\u0015\u0000(j�:\u0015\u0000X\u0002\u0000\u0000\u0000БrZb\u0015\u0000j�:\u0015\u0000K\u0000j�:\u0015\u0000K\u0000j�:\u0015\u0000}r[b\u0015\u0000(jr:\u0015\u0000M)Cjs:\u0015\u0000X\n",
            "\u0000\u0000\u0000Артурr\\b\u0015\u0000j�:\u0015\u0000X\u0018\u0000\u0000\u0000Владимировичr]b\u0015\u0000j�:\u0015\u0000X\u000e\u0000\u0000\u0000Кулешовr^b\u0015\u0000uu}r_b\u0015\u0000(j�:\u0015\u0000X\u0002\u0000\u0000\u0000Бr`b\u0015\u0000j�:\u0015\u0000K\u0000j�:\u0015\u0000K\u0000j�:\u0015\u0000}rab\u0015\u0000(jr:\u0015\u0000M.fjs:\u0015\u0000X\n",
            "\u0000\u0000\u0000Иринаrbb\u0015\u0000j�:\u0015\u0000X\u0012\u0000\u0000\u0000Сергеевнаrcb\u0015\u0000j�:\u0015\u0000X\u0014\u0000\u0000\u0000Протасевичrdb\u0015\u0000uu}reb\u0015\u0000(j�:\u0015\u0000X\u0002\u0000\u0000\u0000Бrfb\u0015\u0000j�:\u0015\u0000K\u0000j�:\u0015\u0000K\u0000j�:\u0015\u0000}rgb\u0015\u0000(jr:\u0015\u0000M\u000eujs:\u0015\u0000X\f\u0000\u0000\u0000Маринаrhb\u0015\u0000j�:\u0015\u0000j>\u0002\u0000\u0000j�:\u0015\u0000X\u0018\u0000\u0000\u0000Сокольниковаrib\u0015\u0000uu}rjb\u0015\u0000(j�:\u0015\u0000X\u0002\u0000\u0000\u0000Бrkb\u0015\u0000j�:\u0015\u0000K\u0000j�:\u0015\u0000K\u0000j�:\u0015\u0000}rlb\u0015\u0000(jr:\u0015\u0000M7yjs:\u0015\u0000X\u000e\u0000\u0000\u0000Евгенийrmb\u0015\u0000j�:\u0015\u0000X\u0014\u0000\u0000\u0000Леонидовичrnb\u0015\u0000j�:\u0015\u0000X\u0012\u0000\u0000\u0000Сушинскийrob\u0015\u0000uu}rpb\u0015\u0000(j�:\u0015\u0000X\u0002\u0000\u0000\u0000Бrqb\u0015\u0000j�:\u0015\u0000K\u0000j�:\u0015\u0000K\u0000j�:\u0015\u0000}rrb\u0015\u0000(jr:\u0015\u0000MM�js:\u0015\u0000X\b\u0000\u0000\u0000Глебrsb\u0015\u0000j�:\u0015\u0000X\u000e\u0000\u0000\u0000Юрьевичrtb\u0015\u0000j�:\u0015\u0000X\u000e\u0000\u0000\u0000Лобановrub\u0015\u0000uu}rvb\u0015\u0000(j�:\u0015\u0000X\u0002\u0000\u0000\u0000Бrwb\u0015\u0000j�:\u0015\u0000K\u0000j�:\u0015\u0000K\u0000j�:\u0015\u0000}rxb\u0015\u0000(jr:\u0015\u0000MN�js:\u0015\u0000X\u000e\u0000\u0000\u0000Николайryb\u0015\u0000j�:\u0015\u0000X\u001a\u0000\u0000\u0000Александровичrzb\u0015\u0000j�:\u0015\u0000X\u000e\u0000\u0000\u0000Халяминr{b\u0015\u0000uueu}r|b\u0015\u0000(jp:\u0015\u0000}r}b\u0015\u0000(jr:\u0015\u0000M�hjs:\u0015\u0000X\u0011\u0000\u0000\u00003-й размерr~b\u0015\u0000ju:\u0015\u0000}rb\u0015\u0000(jr:\u0015\u0000M\u0016\u0001js:\u0015\u0000X\u0010\u0000\u0000\u0000Рузаевкаr�b\u0015\u0000uujx:\u0015\u0000Njy:\u0015\u0000}r�b\u0015\u0000(js:\u0015\u0000X\u0011\u0000\u0000\u00003-й размерr�b\u0015\u0000ju:\u0015\u0000}r�b\u0015\u0000(jr:\u0015\u0000M\u0016\u0001js:\u0015\u0000X\u0010\u0000\u0000\u0000Рузае"
          ]
        }
      ]
    },
    {
      "cell_type": "code",
      "source": [
        "df_r = pd.read_pickle('results.pkl') # not on collab\n",
        "df0 = {k: i for k, i in df_r.items() if len(i)}"
      ],
      "metadata": {
        "id": "0CsfuNSDAFki"
      },
      "execution_count": null,
      "outputs": []
    },
    {
      "cell_type": "code",
      "source": [],
      "metadata": {
        "id": "FOAdjuaph9Up"
      },
      "execution_count": null,
      "outputs": []
    },
    {
      "cell_type": "code",
      "source": [],
      "metadata": {
        "id": "EoE-YOBsLXHy"
      },
      "execution_count": null,
      "outputs": []
    }
  ]
}