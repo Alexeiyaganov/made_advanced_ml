{
 "cells": [
  {
   "cell_type": "code",
   "execution_count": 5,
   "id": "4cb61345",
   "metadata": {},
   "outputs": [],
   "source": [
    "import numpy as np\n",
    "import pandas as pd\n",
    "from scipy.stats import multivariate_normal"
   ]
  },
  {
   "cell_type": "code",
   "execution_count": 6,
   "id": "3f8bf45d",
   "metadata": {},
   "outputs": [],
   "source": [
    "data = pd.read_csv(\n",
    "    'owid-covid-data.csv', \n",
    "    delimiter=','\n",
    ")"
   ]
  },
  {
   "cell_type": "code",
   "execution_count": 7,
   "id": "cb3c4a9a",
   "metadata": {},
   "outputs": [
    {
     "data": {
      "text/html": [
       "<div>\n",
       "<style scoped>\n",
       "    .dataframe tbody tr th:only-of-type {\n",
       "        vertical-align: middle;\n",
       "    }\n",
       "\n",
       "    .dataframe tbody tr th {\n",
       "        vertical-align: top;\n",
       "    }\n",
       "\n",
       "    .dataframe thead th {\n",
       "        text-align: right;\n",
       "    }\n",
       "</style>\n",
       "<table border=\"1\" class=\"dataframe\">\n",
       "  <thead>\n",
       "    <tr style=\"text-align: right;\">\n",
       "      <th></th>\n",
       "      <th>iso_code</th>\n",
       "      <th>continent</th>\n",
       "      <th>location</th>\n",
       "      <th>date</th>\n",
       "      <th>total_cases</th>\n",
       "      <th>new_cases</th>\n",
       "      <th>new_cases_smoothed</th>\n",
       "      <th>total_deaths</th>\n",
       "      <th>new_deaths</th>\n",
       "      <th>new_deaths_smoothed</th>\n",
       "      <th>...</th>\n",
       "      <th>male_smokers</th>\n",
       "      <th>handwashing_facilities</th>\n",
       "      <th>hospital_beds_per_thousand</th>\n",
       "      <th>life_expectancy</th>\n",
       "      <th>human_development_index</th>\n",
       "      <th>population</th>\n",
       "      <th>excess_mortality_cumulative_absolute</th>\n",
       "      <th>excess_mortality_cumulative</th>\n",
       "      <th>excess_mortality</th>\n",
       "      <th>excess_mortality_cumulative_per_million</th>\n",
       "    </tr>\n",
       "  </thead>\n",
       "  <tbody>\n",
       "    <tr>\n",
       "      <th>0</th>\n",
       "      <td>AFG</td>\n",
       "      <td>Asia</td>\n",
       "      <td>Afghanistan</td>\n",
       "      <td>2020-02-24</td>\n",
       "      <td>5.0</td>\n",
       "      <td>5.0</td>\n",
       "      <td>NaN</td>\n",
       "      <td>NaN</td>\n",
       "      <td>NaN</td>\n",
       "      <td>NaN</td>\n",
       "      <td>...</td>\n",
       "      <td>NaN</td>\n",
       "      <td>37.746</td>\n",
       "      <td>0.5</td>\n",
       "      <td>64.83</td>\n",
       "      <td>0.511</td>\n",
       "      <td>41128772.0</td>\n",
       "      <td>NaN</td>\n",
       "      <td>NaN</td>\n",
       "      <td>NaN</td>\n",
       "      <td>NaN</td>\n",
       "    </tr>\n",
       "    <tr>\n",
       "      <th>1</th>\n",
       "      <td>AFG</td>\n",
       "      <td>Asia</td>\n",
       "      <td>Afghanistan</td>\n",
       "      <td>2020-02-25</td>\n",
       "      <td>5.0</td>\n",
       "      <td>0.0</td>\n",
       "      <td>NaN</td>\n",
       "      <td>NaN</td>\n",
       "      <td>NaN</td>\n",
       "      <td>NaN</td>\n",
       "      <td>...</td>\n",
       "      <td>NaN</td>\n",
       "      <td>37.746</td>\n",
       "      <td>0.5</td>\n",
       "      <td>64.83</td>\n",
       "      <td>0.511</td>\n",
       "      <td>41128772.0</td>\n",
       "      <td>NaN</td>\n",
       "      <td>NaN</td>\n",
       "      <td>NaN</td>\n",
       "      <td>NaN</td>\n",
       "    </tr>\n",
       "    <tr>\n",
       "      <th>2</th>\n",
       "      <td>AFG</td>\n",
       "      <td>Asia</td>\n",
       "      <td>Afghanistan</td>\n",
       "      <td>2020-02-26</td>\n",
       "      <td>5.0</td>\n",
       "      <td>0.0</td>\n",
       "      <td>NaN</td>\n",
       "      <td>NaN</td>\n",
       "      <td>NaN</td>\n",
       "      <td>NaN</td>\n",
       "      <td>...</td>\n",
       "      <td>NaN</td>\n",
       "      <td>37.746</td>\n",
       "      <td>0.5</td>\n",
       "      <td>64.83</td>\n",
       "      <td>0.511</td>\n",
       "      <td>41128772.0</td>\n",
       "      <td>NaN</td>\n",
       "      <td>NaN</td>\n",
       "      <td>NaN</td>\n",
       "      <td>NaN</td>\n",
       "    </tr>\n",
       "    <tr>\n",
       "      <th>3</th>\n",
       "      <td>AFG</td>\n",
       "      <td>Asia</td>\n",
       "      <td>Afghanistan</td>\n",
       "      <td>2020-02-27</td>\n",
       "      <td>5.0</td>\n",
       "      <td>0.0</td>\n",
       "      <td>NaN</td>\n",
       "      <td>NaN</td>\n",
       "      <td>NaN</td>\n",
       "      <td>NaN</td>\n",
       "      <td>...</td>\n",
       "      <td>NaN</td>\n",
       "      <td>37.746</td>\n",
       "      <td>0.5</td>\n",
       "      <td>64.83</td>\n",
       "      <td>0.511</td>\n",
       "      <td>41128772.0</td>\n",
       "      <td>NaN</td>\n",
       "      <td>NaN</td>\n",
       "      <td>NaN</td>\n",
       "      <td>NaN</td>\n",
       "    </tr>\n",
       "    <tr>\n",
       "      <th>4</th>\n",
       "      <td>AFG</td>\n",
       "      <td>Asia</td>\n",
       "      <td>Afghanistan</td>\n",
       "      <td>2020-02-28</td>\n",
       "      <td>5.0</td>\n",
       "      <td>0.0</td>\n",
       "      <td>NaN</td>\n",
       "      <td>NaN</td>\n",
       "      <td>NaN</td>\n",
       "      <td>NaN</td>\n",
       "      <td>...</td>\n",
       "      <td>NaN</td>\n",
       "      <td>37.746</td>\n",
       "      <td>0.5</td>\n",
       "      <td>64.83</td>\n",
       "      <td>0.511</td>\n",
       "      <td>41128772.0</td>\n",
       "      <td>NaN</td>\n",
       "      <td>NaN</td>\n",
       "      <td>NaN</td>\n",
       "      <td>NaN</td>\n",
       "    </tr>\n",
       "    <tr>\n",
       "      <th>...</th>\n",
       "      <td>...</td>\n",
       "      <td>...</td>\n",
       "      <td>...</td>\n",
       "      <td>...</td>\n",
       "      <td>...</td>\n",
       "      <td>...</td>\n",
       "      <td>...</td>\n",
       "      <td>...</td>\n",
       "      <td>...</td>\n",
       "      <td>...</td>\n",
       "      <td>...</td>\n",
       "      <td>...</td>\n",
       "      <td>...</td>\n",
       "      <td>...</td>\n",
       "      <td>...</td>\n",
       "      <td>...</td>\n",
       "      <td>...</td>\n",
       "      <td>...</td>\n",
       "      <td>...</td>\n",
       "      <td>...</td>\n",
       "      <td>...</td>\n",
       "    </tr>\n",
       "    <tr>\n",
       "      <th>262418</th>\n",
       "      <td>ZWE</td>\n",
       "      <td>Africa</td>\n",
       "      <td>Zimbabwe</td>\n",
       "      <td>2023-03-03</td>\n",
       "      <td>264127.0</td>\n",
       "      <td>NaN</td>\n",
       "      <td>NaN</td>\n",
       "      <td>5668.0</td>\n",
       "      <td>0.0</td>\n",
       "      <td>0.714</td>\n",
       "      <td>...</td>\n",
       "      <td>30.7</td>\n",
       "      <td>36.791</td>\n",
       "      <td>1.7</td>\n",
       "      <td>61.49</td>\n",
       "      <td>0.571</td>\n",
       "      <td>16320539.0</td>\n",
       "      <td>NaN</td>\n",
       "      <td>NaN</td>\n",
       "      <td>NaN</td>\n",
       "      <td>NaN</td>\n",
       "    </tr>\n",
       "    <tr>\n",
       "      <th>262419</th>\n",
       "      <td>ZWE</td>\n",
       "      <td>Africa</td>\n",
       "      <td>Zimbabwe</td>\n",
       "      <td>2023-03-04</td>\n",
       "      <td>264127.0</td>\n",
       "      <td>NaN</td>\n",
       "      <td>NaN</td>\n",
       "      <td>5668.0</td>\n",
       "      <td>0.0</td>\n",
       "      <td>0.714</td>\n",
       "      <td>...</td>\n",
       "      <td>30.7</td>\n",
       "      <td>36.791</td>\n",
       "      <td>1.7</td>\n",
       "      <td>61.49</td>\n",
       "      <td>0.571</td>\n",
       "      <td>16320539.0</td>\n",
       "      <td>NaN</td>\n",
       "      <td>NaN</td>\n",
       "      <td>NaN</td>\n",
       "      <td>NaN</td>\n",
       "    </tr>\n",
       "    <tr>\n",
       "      <th>262420</th>\n",
       "      <td>ZWE</td>\n",
       "      <td>Africa</td>\n",
       "      <td>Zimbabwe</td>\n",
       "      <td>2023-03-05</td>\n",
       "      <td>264127.0</td>\n",
       "      <td>NaN</td>\n",
       "      <td>NaN</td>\n",
       "      <td>5668.0</td>\n",
       "      <td>0.0</td>\n",
       "      <td>0.714</td>\n",
       "      <td>...</td>\n",
       "      <td>30.7</td>\n",
       "      <td>36.791</td>\n",
       "      <td>1.7</td>\n",
       "      <td>61.49</td>\n",
       "      <td>0.571</td>\n",
       "      <td>16320539.0</td>\n",
       "      <td>NaN</td>\n",
       "      <td>NaN</td>\n",
       "      <td>NaN</td>\n",
       "      <td>NaN</td>\n",
       "    </tr>\n",
       "    <tr>\n",
       "      <th>262421</th>\n",
       "      <td>ZWE</td>\n",
       "      <td>Africa</td>\n",
       "      <td>Zimbabwe</td>\n",
       "      <td>2023-03-06</td>\n",
       "      <td>264127.0</td>\n",
       "      <td>NaN</td>\n",
       "      <td>NaN</td>\n",
       "      <td>5668.0</td>\n",
       "      <td>0.0</td>\n",
       "      <td>0.714</td>\n",
       "      <td>...</td>\n",
       "      <td>30.7</td>\n",
       "      <td>36.791</td>\n",
       "      <td>1.7</td>\n",
       "      <td>61.49</td>\n",
       "      <td>0.571</td>\n",
       "      <td>16320539.0</td>\n",
       "      <td>NaN</td>\n",
       "      <td>NaN</td>\n",
       "      <td>NaN</td>\n",
       "      <td>NaN</td>\n",
       "    </tr>\n",
       "    <tr>\n",
       "      <th>262422</th>\n",
       "      <td>ZWE</td>\n",
       "      <td>Africa</td>\n",
       "      <td>Zimbabwe</td>\n",
       "      <td>2023-03-07</td>\n",
       "      <td>264127.0</td>\n",
       "      <td>NaN</td>\n",
       "      <td>NaN</td>\n",
       "      <td>5668.0</td>\n",
       "      <td>0.0</td>\n",
       "      <td>0.714</td>\n",
       "      <td>...</td>\n",
       "      <td>30.7</td>\n",
       "      <td>36.791</td>\n",
       "      <td>1.7</td>\n",
       "      <td>61.49</td>\n",
       "      <td>0.571</td>\n",
       "      <td>16320539.0</td>\n",
       "      <td>NaN</td>\n",
       "      <td>NaN</td>\n",
       "      <td>NaN</td>\n",
       "      <td>NaN</td>\n",
       "    </tr>\n",
       "  </tbody>\n",
       "</table>\n",
       "<p>262423 rows × 67 columns</p>\n",
       "</div>"
      ],
      "text/plain": [
       "       iso_code continent     location        date  total_cases  new_cases  \\\n",
       "0           AFG      Asia  Afghanistan  2020-02-24          5.0        5.0   \n",
       "1           AFG      Asia  Afghanistan  2020-02-25          5.0        0.0   \n",
       "2           AFG      Asia  Afghanistan  2020-02-26          5.0        0.0   \n",
       "3           AFG      Asia  Afghanistan  2020-02-27          5.0        0.0   \n",
       "4           AFG      Asia  Afghanistan  2020-02-28          5.0        0.0   \n",
       "...         ...       ...          ...         ...          ...        ...   \n",
       "262418      ZWE    Africa     Zimbabwe  2023-03-03     264127.0        NaN   \n",
       "262419      ZWE    Africa     Zimbabwe  2023-03-04     264127.0        NaN   \n",
       "262420      ZWE    Africa     Zimbabwe  2023-03-05     264127.0        NaN   \n",
       "262421      ZWE    Africa     Zimbabwe  2023-03-06     264127.0        NaN   \n",
       "262422      ZWE    Africa     Zimbabwe  2023-03-07     264127.0        NaN   \n",
       "\n",
       "        new_cases_smoothed  total_deaths  new_deaths  new_deaths_smoothed  \\\n",
       "0                      NaN           NaN         NaN                  NaN   \n",
       "1                      NaN           NaN         NaN                  NaN   \n",
       "2                      NaN           NaN         NaN                  NaN   \n",
       "3                      NaN           NaN         NaN                  NaN   \n",
       "4                      NaN           NaN         NaN                  NaN   \n",
       "...                    ...           ...         ...                  ...   \n",
       "262418                 NaN        5668.0         0.0                0.714   \n",
       "262419                 NaN        5668.0         0.0                0.714   \n",
       "262420                 NaN        5668.0         0.0                0.714   \n",
       "262421                 NaN        5668.0         0.0                0.714   \n",
       "262422                 NaN        5668.0         0.0                0.714   \n",
       "\n",
       "        ...  male_smokers  handwashing_facilities  hospital_beds_per_thousand  \\\n",
       "0       ...           NaN                  37.746                         0.5   \n",
       "1       ...           NaN                  37.746                         0.5   \n",
       "2       ...           NaN                  37.746                         0.5   \n",
       "3       ...           NaN                  37.746                         0.5   \n",
       "4       ...           NaN                  37.746                         0.5   \n",
       "...     ...           ...                     ...                         ...   \n",
       "262418  ...          30.7                  36.791                         1.7   \n",
       "262419  ...          30.7                  36.791                         1.7   \n",
       "262420  ...          30.7                  36.791                         1.7   \n",
       "262421  ...          30.7                  36.791                         1.7   \n",
       "262422  ...          30.7                  36.791                         1.7   \n",
       "\n",
       "        life_expectancy  human_development_index  population  \\\n",
       "0                 64.83                    0.511  41128772.0   \n",
       "1                 64.83                    0.511  41128772.0   \n",
       "2                 64.83                    0.511  41128772.0   \n",
       "3                 64.83                    0.511  41128772.0   \n",
       "4                 64.83                    0.511  41128772.0   \n",
       "...                 ...                      ...         ...   \n",
       "262418            61.49                    0.571  16320539.0   \n",
       "262419            61.49                    0.571  16320539.0   \n",
       "262420            61.49                    0.571  16320539.0   \n",
       "262421            61.49                    0.571  16320539.0   \n",
       "262422            61.49                    0.571  16320539.0   \n",
       "\n",
       "        excess_mortality_cumulative_absolute  excess_mortality_cumulative  \\\n",
       "0                                        NaN                          NaN   \n",
       "1                                        NaN                          NaN   \n",
       "2                                        NaN                          NaN   \n",
       "3                                        NaN                          NaN   \n",
       "4                                        NaN                          NaN   \n",
       "...                                      ...                          ...   \n",
       "262418                                   NaN                          NaN   \n",
       "262419                                   NaN                          NaN   \n",
       "262420                                   NaN                          NaN   \n",
       "262421                                   NaN                          NaN   \n",
       "262422                                   NaN                          NaN   \n",
       "\n",
       "        excess_mortality  excess_mortality_cumulative_per_million  \n",
       "0                    NaN                                      NaN  \n",
       "1                    NaN                                      NaN  \n",
       "2                    NaN                                      NaN  \n",
       "3                    NaN                                      NaN  \n",
       "4                    NaN                                      NaN  \n",
       "...                  ...                                      ...  \n",
       "262418               NaN                                      NaN  \n",
       "262419               NaN                                      NaN  \n",
       "262420               NaN                                      NaN  \n",
       "262421               NaN                                      NaN  \n",
       "262422               NaN                                      NaN  \n",
       "\n",
       "[262423 rows x 67 columns]"
      ]
     },
     "execution_count": 7,
     "metadata": {},
     "output_type": "execute_result"
    }
   ],
   "source": [
    "data"
   ]
  },
  {
   "cell_type": "code",
   "execution_count": 8,
   "id": "f10c0648",
   "metadata": {},
   "outputs": [],
   "source": [
    "data_rus=data[data.location == 'Russia']"
   ]
  },
  {
   "cell_type": "code",
   "execution_count": 9,
   "id": "53651cc1",
   "metadata": {},
   "outputs": [
    {
     "data": {
      "text/plain": [
       "193504    2020-01-31\n",
       "193505    2020-02-01\n",
       "193506    2020-02-02\n",
       "193507    2020-02-03\n",
       "193508    2020-02-04\n",
       "             ...    \n",
       "194631    2023-03-03\n",
       "194632    2023-03-04\n",
       "194633    2023-03-05\n",
       "194634    2023-03-06\n",
       "194635    2023-03-07\n",
       "Name: date, Length: 1132, dtype: object"
      ]
     },
     "execution_count": 9,
     "metadata": {},
     "output_type": "execute_result"
    }
   ],
   "source": [
    "data_rus['date']"
   ]
  },
  {
   "cell_type": "code",
   "execution_count": 10,
   "id": "dcf8ba44",
   "metadata": {},
   "outputs": [],
   "source": [
    "import datetime as dt\n",
    "my_date = \"03.03.2020\"\n",
    "my_dt = dt.datetime.strptime(my_date, '%d.%m.%Y')"
   ]
  },
  {
   "cell_type": "code",
   "execution_count": 11,
   "id": "3f2bf79a",
   "metadata": {},
   "outputs": [
    {
     "data": {
      "text/plain": [
       "datetime.datetime(2020, 3, 3, 0, 0)"
      ]
     },
     "execution_count": 11,
     "metadata": {},
     "output_type": "execute_result"
    }
   ],
   "source": [
    "my_dt"
   ]
  },
  {
   "cell_type": "code",
   "execution_count": 12,
   "id": "fc551adf",
   "metadata": {},
   "outputs": [
    {
     "name": "stderr",
     "output_type": "stream",
     "text": [
      "C:\\Users\\SKIENB~1\\AppData\\Local\\Temp/ipykernel_10016/2318712398.py:1: SettingWithCopyWarning: \n",
      "A value is trying to be set on a copy of a slice from a DataFrame.\n",
      "Try using .loc[row_indexer,col_indexer] = value instead\n",
      "\n",
      "See the caveats in the documentation: https://pandas.pydata.org/pandas-docs/stable/user_guide/indexing.html#returning-a-view-versus-a-copy\n",
      "  data_rus['date'] = pd.to_datetime(data_rus['date'], format='%Y-%m-%d')\n"
     ]
    }
   ],
   "source": [
    "data_rus['date'] = pd.to_datetime(data_rus['date'], format='%Y-%m-%d')"
   ]
  },
  {
   "cell_type": "code",
   "execution_count": 13,
   "id": "1591a047",
   "metadata": {},
   "outputs": [],
   "source": [
    "df=data_rus[data_rus.date >= my_dt]"
   ]
  },
  {
   "cell_type": "code",
   "execution_count": 14,
   "id": "a00e3e63",
   "metadata": {},
   "outputs": [
    {
     "data": {
      "text/html": [
       "<div>\n",
       "<style scoped>\n",
       "    .dataframe tbody tr th:only-of-type {\n",
       "        vertical-align: middle;\n",
       "    }\n",
       "\n",
       "    .dataframe tbody tr th {\n",
       "        vertical-align: top;\n",
       "    }\n",
       "\n",
       "    .dataframe thead th {\n",
       "        text-align: right;\n",
       "    }\n",
       "</style>\n",
       "<table border=\"1\" class=\"dataframe\">\n",
       "  <thead>\n",
       "    <tr style=\"text-align: right;\">\n",
       "      <th></th>\n",
       "      <th>iso_code</th>\n",
       "      <th>continent</th>\n",
       "      <th>location</th>\n",
       "      <th>date</th>\n",
       "      <th>total_cases</th>\n",
       "      <th>new_cases</th>\n",
       "      <th>new_cases_smoothed</th>\n",
       "      <th>total_deaths</th>\n",
       "      <th>new_deaths</th>\n",
       "      <th>new_deaths_smoothed</th>\n",
       "      <th>...</th>\n",
       "      <th>male_smokers</th>\n",
       "      <th>handwashing_facilities</th>\n",
       "      <th>hospital_beds_per_thousand</th>\n",
       "      <th>life_expectancy</th>\n",
       "      <th>human_development_index</th>\n",
       "      <th>population</th>\n",
       "      <th>excess_mortality_cumulative_absolute</th>\n",
       "      <th>excess_mortality_cumulative</th>\n",
       "      <th>excess_mortality</th>\n",
       "      <th>excess_mortality_cumulative_per_million</th>\n",
       "    </tr>\n",
       "  </thead>\n",
       "  <tbody>\n",
       "    <tr>\n",
       "      <th>193536</th>\n",
       "      <td>RUS</td>\n",
       "      <td>Europe</td>\n",
       "      <td>Russia</td>\n",
       "      <td>2020-03-03</td>\n",
       "      <td>3.0</td>\n",
       "      <td>0.0</td>\n",
       "      <td>0.143</td>\n",
       "      <td>NaN</td>\n",
       "      <td>NaN</td>\n",
       "      <td>NaN</td>\n",
       "      <td>...</td>\n",
       "      <td>58.3</td>\n",
       "      <td>NaN</td>\n",
       "      <td>8.05</td>\n",
       "      <td>72.58</td>\n",
       "      <td>0.824</td>\n",
       "      <td>144713312.0</td>\n",
       "      <td>NaN</td>\n",
       "      <td>NaN</td>\n",
       "      <td>NaN</td>\n",
       "      <td>NaN</td>\n",
       "    </tr>\n",
       "    <tr>\n",
       "      <th>193537</th>\n",
       "      <td>RUS</td>\n",
       "      <td>Europe</td>\n",
       "      <td>Russia</td>\n",
       "      <td>2020-03-04</td>\n",
       "      <td>3.0</td>\n",
       "      <td>0.0</td>\n",
       "      <td>0.143</td>\n",
       "      <td>NaN</td>\n",
       "      <td>NaN</td>\n",
       "      <td>NaN</td>\n",
       "      <td>...</td>\n",
       "      <td>58.3</td>\n",
       "      <td>NaN</td>\n",
       "      <td>8.05</td>\n",
       "      <td>72.58</td>\n",
       "      <td>0.824</td>\n",
       "      <td>144713312.0</td>\n",
       "      <td>NaN</td>\n",
       "      <td>NaN</td>\n",
       "      <td>NaN</td>\n",
       "      <td>NaN</td>\n",
       "    </tr>\n",
       "    <tr>\n",
       "      <th>193538</th>\n",
       "      <td>RUS</td>\n",
       "      <td>Europe</td>\n",
       "      <td>Russia</td>\n",
       "      <td>2020-03-05</td>\n",
       "      <td>4.0</td>\n",
       "      <td>1.0</td>\n",
       "      <td>0.286</td>\n",
       "      <td>NaN</td>\n",
       "      <td>NaN</td>\n",
       "      <td>NaN</td>\n",
       "      <td>...</td>\n",
       "      <td>58.3</td>\n",
       "      <td>NaN</td>\n",
       "      <td>8.05</td>\n",
       "      <td>72.58</td>\n",
       "      <td>0.824</td>\n",
       "      <td>144713312.0</td>\n",
       "      <td>NaN</td>\n",
       "      <td>NaN</td>\n",
       "      <td>NaN</td>\n",
       "      <td>NaN</td>\n",
       "    </tr>\n",
       "    <tr>\n",
       "      <th>193539</th>\n",
       "      <td>RUS</td>\n",
       "      <td>Europe</td>\n",
       "      <td>Russia</td>\n",
       "      <td>2020-03-06</td>\n",
       "      <td>13.0</td>\n",
       "      <td>9.0</td>\n",
       "      <td>1.571</td>\n",
       "      <td>NaN</td>\n",
       "      <td>NaN</td>\n",
       "      <td>NaN</td>\n",
       "      <td>...</td>\n",
       "      <td>58.3</td>\n",
       "      <td>NaN</td>\n",
       "      <td>8.05</td>\n",
       "      <td>72.58</td>\n",
       "      <td>0.824</td>\n",
       "      <td>144713312.0</td>\n",
       "      <td>NaN</td>\n",
       "      <td>NaN</td>\n",
       "      <td>NaN</td>\n",
       "      <td>NaN</td>\n",
       "    </tr>\n",
       "    <tr>\n",
       "      <th>193540</th>\n",
       "      <td>RUS</td>\n",
       "      <td>Europe</td>\n",
       "      <td>Russia</td>\n",
       "      <td>2020-03-07</td>\n",
       "      <td>13.0</td>\n",
       "      <td>0.0</td>\n",
       "      <td>1.571</td>\n",
       "      <td>NaN</td>\n",
       "      <td>NaN</td>\n",
       "      <td>NaN</td>\n",
       "      <td>...</td>\n",
       "      <td>58.3</td>\n",
       "      <td>NaN</td>\n",
       "      <td>8.05</td>\n",
       "      <td>72.58</td>\n",
       "      <td>0.824</td>\n",
       "      <td>144713312.0</td>\n",
       "      <td>NaN</td>\n",
       "      <td>NaN</td>\n",
       "      <td>NaN</td>\n",
       "      <td>NaN</td>\n",
       "    </tr>\n",
       "    <tr>\n",
       "      <th>...</th>\n",
       "      <td>...</td>\n",
       "      <td>...</td>\n",
       "      <td>...</td>\n",
       "      <td>...</td>\n",
       "      <td>...</td>\n",
       "      <td>...</td>\n",
       "      <td>...</td>\n",
       "      <td>...</td>\n",
       "      <td>...</td>\n",
       "      <td>...</td>\n",
       "      <td>...</td>\n",
       "      <td>...</td>\n",
       "      <td>...</td>\n",
       "      <td>...</td>\n",
       "      <td>...</td>\n",
       "      <td>...</td>\n",
       "      <td>...</td>\n",
       "      <td>...</td>\n",
       "      <td>...</td>\n",
       "      <td>...</td>\n",
       "      <td>...</td>\n",
       "    </tr>\n",
       "    <tr>\n",
       "      <th>194631</th>\n",
       "      <td>RUS</td>\n",
       "      <td>Europe</td>\n",
       "      <td>Russia</td>\n",
       "      <td>2023-03-03</td>\n",
       "      <td>22002485.0</td>\n",
       "      <td>14375.0</td>\n",
       "      <td>11624.571</td>\n",
       "      <td>388240.0</td>\n",
       "      <td>39.0</td>\n",
       "      <td>34.286</td>\n",
       "      <td>...</td>\n",
       "      <td>58.3</td>\n",
       "      <td>NaN</td>\n",
       "      <td>8.05</td>\n",
       "      <td>72.58</td>\n",
       "      <td>0.824</td>\n",
       "      <td>144713312.0</td>\n",
       "      <td>NaN</td>\n",
       "      <td>NaN</td>\n",
       "      <td>NaN</td>\n",
       "      <td>NaN</td>\n",
       "    </tr>\n",
       "    <tr>\n",
       "      <th>194632</th>\n",
       "      <td>RUS</td>\n",
       "      <td>Europe</td>\n",
       "      <td>Russia</td>\n",
       "      <td>2023-03-04</td>\n",
       "      <td>22016406.0</td>\n",
       "      <td>13921.0</td>\n",
       "      <td>12049.143</td>\n",
       "      <td>388278.0</td>\n",
       "      <td>38.0</td>\n",
       "      <td>35.000</td>\n",
       "      <td>...</td>\n",
       "      <td>58.3</td>\n",
       "      <td>NaN</td>\n",
       "      <td>8.05</td>\n",
       "      <td>72.58</td>\n",
       "      <td>0.824</td>\n",
       "      <td>144713312.0</td>\n",
       "      <td>NaN</td>\n",
       "      <td>NaN</td>\n",
       "      <td>NaN</td>\n",
       "      <td>NaN</td>\n",
       "    </tr>\n",
       "    <tr>\n",
       "      <th>194633</th>\n",
       "      <td>RUS</td>\n",
       "      <td>Europe</td>\n",
       "      <td>Russia</td>\n",
       "      <td>2023-03-05</td>\n",
       "      <td>22029824.0</td>\n",
       "      <td>13418.0</td>\n",
       "      <td>12606.000</td>\n",
       "      <td>388320.0</td>\n",
       "      <td>42.0</td>\n",
       "      <td>36.714</td>\n",
       "      <td>...</td>\n",
       "      <td>58.3</td>\n",
       "      <td>NaN</td>\n",
       "      <td>8.05</td>\n",
       "      <td>72.58</td>\n",
       "      <td>0.824</td>\n",
       "      <td>144713312.0</td>\n",
       "      <td>NaN</td>\n",
       "      <td>NaN</td>\n",
       "      <td>NaN</td>\n",
       "      <td>NaN</td>\n",
       "    </tr>\n",
       "    <tr>\n",
       "      <th>194634</th>\n",
       "      <td>RUS</td>\n",
       "      <td>Europe</td>\n",
       "      <td>Russia</td>\n",
       "      <td>2023-03-06</td>\n",
       "      <td>22040875.0</td>\n",
       "      <td>11051.0</td>\n",
       "      <td>12830.857</td>\n",
       "      <td>388355.0</td>\n",
       "      <td>35.0</td>\n",
       "      <td>37.714</td>\n",
       "      <td>...</td>\n",
       "      <td>58.3</td>\n",
       "      <td>NaN</td>\n",
       "      <td>8.05</td>\n",
       "      <td>72.58</td>\n",
       "      <td>0.824</td>\n",
       "      <td>144713312.0</td>\n",
       "      <td>NaN</td>\n",
       "      <td>NaN</td>\n",
       "      <td>NaN</td>\n",
       "      <td>NaN</td>\n",
       "    </tr>\n",
       "    <tr>\n",
       "      <th>194635</th>\n",
       "      <td>RUS</td>\n",
       "      <td>Europe</td>\n",
       "      <td>Russia</td>\n",
       "      <td>2023-03-07</td>\n",
       "      <td>22051220.0</td>\n",
       "      <td>10345.0</td>\n",
       "      <td>12928.714</td>\n",
       "      <td>388396.0</td>\n",
       "      <td>41.0</td>\n",
       "      <td>38.571</td>\n",
       "      <td>...</td>\n",
       "      <td>58.3</td>\n",
       "      <td>NaN</td>\n",
       "      <td>8.05</td>\n",
       "      <td>72.58</td>\n",
       "      <td>0.824</td>\n",
       "      <td>144713312.0</td>\n",
       "      <td>NaN</td>\n",
       "      <td>NaN</td>\n",
       "      <td>NaN</td>\n",
       "      <td>NaN</td>\n",
       "    </tr>\n",
       "  </tbody>\n",
       "</table>\n",
       "<p>1100 rows × 67 columns</p>\n",
       "</div>"
      ],
      "text/plain": [
       "       iso_code continent location       date  total_cases  new_cases  \\\n",
       "193536      RUS    Europe   Russia 2020-03-03          3.0        0.0   \n",
       "193537      RUS    Europe   Russia 2020-03-04          3.0        0.0   \n",
       "193538      RUS    Europe   Russia 2020-03-05          4.0        1.0   \n",
       "193539      RUS    Europe   Russia 2020-03-06         13.0        9.0   \n",
       "193540      RUS    Europe   Russia 2020-03-07         13.0        0.0   \n",
       "...         ...       ...      ...        ...          ...        ...   \n",
       "194631      RUS    Europe   Russia 2023-03-03   22002485.0    14375.0   \n",
       "194632      RUS    Europe   Russia 2023-03-04   22016406.0    13921.0   \n",
       "194633      RUS    Europe   Russia 2023-03-05   22029824.0    13418.0   \n",
       "194634      RUS    Europe   Russia 2023-03-06   22040875.0    11051.0   \n",
       "194635      RUS    Europe   Russia 2023-03-07   22051220.0    10345.0   \n",
       "\n",
       "        new_cases_smoothed  total_deaths  new_deaths  new_deaths_smoothed  \\\n",
       "193536               0.143           NaN         NaN                  NaN   \n",
       "193537               0.143           NaN         NaN                  NaN   \n",
       "193538               0.286           NaN         NaN                  NaN   \n",
       "193539               1.571           NaN         NaN                  NaN   \n",
       "193540               1.571           NaN         NaN                  NaN   \n",
       "...                    ...           ...         ...                  ...   \n",
       "194631           11624.571      388240.0        39.0               34.286   \n",
       "194632           12049.143      388278.0        38.0               35.000   \n",
       "194633           12606.000      388320.0        42.0               36.714   \n",
       "194634           12830.857      388355.0        35.0               37.714   \n",
       "194635           12928.714      388396.0        41.0               38.571   \n",
       "\n",
       "        ...  male_smokers  handwashing_facilities  hospital_beds_per_thousand  \\\n",
       "193536  ...          58.3                     NaN                        8.05   \n",
       "193537  ...          58.3                     NaN                        8.05   \n",
       "193538  ...          58.3                     NaN                        8.05   \n",
       "193539  ...          58.3                     NaN                        8.05   \n",
       "193540  ...          58.3                     NaN                        8.05   \n",
       "...     ...           ...                     ...                         ...   \n",
       "194631  ...          58.3                     NaN                        8.05   \n",
       "194632  ...          58.3                     NaN                        8.05   \n",
       "194633  ...          58.3                     NaN                        8.05   \n",
       "194634  ...          58.3                     NaN                        8.05   \n",
       "194635  ...          58.3                     NaN                        8.05   \n",
       "\n",
       "        life_expectancy  human_development_index   population  \\\n",
       "193536            72.58                    0.824  144713312.0   \n",
       "193537            72.58                    0.824  144713312.0   \n",
       "193538            72.58                    0.824  144713312.0   \n",
       "193539            72.58                    0.824  144713312.0   \n",
       "193540            72.58                    0.824  144713312.0   \n",
       "...                 ...                      ...          ...   \n",
       "194631            72.58                    0.824  144713312.0   \n",
       "194632            72.58                    0.824  144713312.0   \n",
       "194633            72.58                    0.824  144713312.0   \n",
       "194634            72.58                    0.824  144713312.0   \n",
       "194635            72.58                    0.824  144713312.0   \n",
       "\n",
       "        excess_mortality_cumulative_absolute  excess_mortality_cumulative  \\\n",
       "193536                                   NaN                          NaN   \n",
       "193537                                   NaN                          NaN   \n",
       "193538                                   NaN                          NaN   \n",
       "193539                                   NaN                          NaN   \n",
       "193540                                   NaN                          NaN   \n",
       "...                                      ...                          ...   \n",
       "194631                                   NaN                          NaN   \n",
       "194632                                   NaN                          NaN   \n",
       "194633                                   NaN                          NaN   \n",
       "194634                                   NaN                          NaN   \n",
       "194635                                   NaN                          NaN   \n",
       "\n",
       "        excess_mortality  excess_mortality_cumulative_per_million  \n",
       "193536               NaN                                      NaN  \n",
       "193537               NaN                                      NaN  \n",
       "193538               NaN                                      NaN  \n",
       "193539               NaN                                      NaN  \n",
       "193540               NaN                                      NaN  \n",
       "...                  ...                                      ...  \n",
       "194631               NaN                                      NaN  \n",
       "194632               NaN                                      NaN  \n",
       "194633               NaN                                      NaN  \n",
       "194634               NaN                                      NaN  \n",
       "194635               NaN                                      NaN  \n",
       "\n",
       "[1100 rows x 67 columns]"
      ]
     },
     "execution_count": 14,
     "metadata": {},
     "output_type": "execute_result"
    }
   ],
   "source": [
    "df"
   ]
  },
  {
   "cell_type": "code",
   "execution_count": 15,
   "id": "bca1006e",
   "metadata": {},
   "outputs": [],
   "source": [
    "df = df[['date', 'total_cases', 'new_cases']]"
   ]
  },
  {
   "cell_type": "code",
   "execution_count": 16,
   "id": "d9396614",
   "metadata": {},
   "outputs": [],
   "source": [
    "df_train = df[:50]"
   ]
  },
  {
   "cell_type": "code",
   "execution_count": 17,
   "id": "884bd755",
   "metadata": {},
   "outputs": [
    {
     "data": {
      "text/html": [
       "<div>\n",
       "<style scoped>\n",
       "    .dataframe tbody tr th:only-of-type {\n",
       "        vertical-align: middle;\n",
       "    }\n",
       "\n",
       "    .dataframe tbody tr th {\n",
       "        vertical-align: top;\n",
       "    }\n",
       "\n",
       "    .dataframe thead th {\n",
       "        text-align: right;\n",
       "    }\n",
       "</style>\n",
       "<table border=\"1\" class=\"dataframe\">\n",
       "  <thead>\n",
       "    <tr style=\"text-align: right;\">\n",
       "      <th></th>\n",
       "      <th>date</th>\n",
       "      <th>total_cases</th>\n",
       "      <th>new_cases</th>\n",
       "    </tr>\n",
       "  </thead>\n",
       "  <tbody>\n",
       "    <tr>\n",
       "      <th>193536</th>\n",
       "      <td>2020-03-03</td>\n",
       "      <td>3.0</td>\n",
       "      <td>0.0</td>\n",
       "    </tr>\n",
       "    <tr>\n",
       "      <th>193537</th>\n",
       "      <td>2020-03-04</td>\n",
       "      <td>3.0</td>\n",
       "      <td>0.0</td>\n",
       "    </tr>\n",
       "    <tr>\n",
       "      <th>193538</th>\n",
       "      <td>2020-03-05</td>\n",
       "      <td>4.0</td>\n",
       "      <td>1.0</td>\n",
       "    </tr>\n",
       "    <tr>\n",
       "      <th>193539</th>\n",
       "      <td>2020-03-06</td>\n",
       "      <td>13.0</td>\n",
       "      <td>9.0</td>\n",
       "    </tr>\n",
       "    <tr>\n",
       "      <th>193540</th>\n",
       "      <td>2020-03-07</td>\n",
       "      <td>13.0</td>\n",
       "      <td>0.0</td>\n",
       "    </tr>\n",
       "  </tbody>\n",
       "</table>\n",
       "</div>"
      ],
      "text/plain": [
       "             date  total_cases  new_cases\n",
       "193536 2020-03-03          3.0        0.0\n",
       "193537 2020-03-04          3.0        0.0\n",
       "193538 2020-03-05          4.0        1.0\n",
       "193539 2020-03-06         13.0        9.0\n",
       "193540 2020-03-07         13.0        0.0"
      ]
     },
     "execution_count": 17,
     "metadata": {},
     "output_type": "execute_result"
    }
   ],
   "source": [
    "df_train.head()"
   ]
  },
  {
   "cell_type": "code",
   "execution_count": 18,
   "id": "14b92f32",
   "metadata": {},
   "outputs": [
    {
     "data": {
      "image/png": "[encoded data removed]",
      "text/plain": [
       "<Figure size 432x288 with 1 Axes>"
      ]
     },
     "metadata": {
      "needs_background": "light"
     },
     "output_type": "display_data"
    }
   ],
   "source": [
    "df.plot.scatter(x=\"date\", y=\"total_cases\");"
   ]
  },
  {
   "cell_type": "code",
   "execution_count": 19,
   "id": "6cd1b800",
   "metadata": {},
   "outputs": [
    {
     "data": {
      "image/png": "[encoded data removed]",
      "text/plain": [
       "<Figure size 432x288 with 1 Axes>"
      ]
     },
     "metadata": {
      "needs_background": "light"
     },
     "output_type": "display_data"
    }
   ],
   "source": [
    "df_train.plot.bar(x=\"date\", y=\"total_cases\");"
   ]
  },
  {
   "cell_type": "code",
   "execution_count": 20,
   "id": "8fa24f94",
   "metadata": {},
   "outputs": [],
   "source": [
    "import numpy as np"
   ]
  },
  {
   "cell_type": "code",
   "execution_count": 21,
   "id": "2195c8b0",
   "metadata": {},
   "outputs": [],
   "source": [
    "x = np.arange(1, 51, 1)\n",
    "y = np.array(df_train['total_cases'])"
   ]
  },
  {
   "cell_type": "code",
   "execution_count": 22,
   "id": "59b5cd77",
   "metadata": {},
   "outputs": [
    {
     "data": {
      "text/plain": [
       "50"
      ]
     },
     "execution_count": 22,
     "metadata": {},
     "output_type": "execute_result"
    }
   ],
   "source": [
    "len(x)"
   ]
  },
  {
   "cell_type": "markdown",
   "id": "d53865f9",
   "metadata": {},
   "source": [
    "Обучим регрессию, на первых 50-ти точках данных"
   ]
  },
  {
   "cell_type": "code",
   "execution_count": 23,
   "id": "3c8ce681",
   "metadata": {},
   "outputs": [],
   "source": [
    "fit = np.polyfit(x, np.log(y), 1)"
   ]
  },
  {
   "cell_type": "markdown",
   "id": "723afb03",
   "metadata": {},
   "source": [
    "Получаем веса:"
   ]
  },
  {
   "cell_type": "code",
   "execution_count": 24,
   "id": "d4ad21da",
   "metadata": {},
   "outputs": [
    {
     "name": "stdout",
     "output_type": "stream",
     "text": [
      "[0.19829091 1.62244624]\n"
     ]
    }
   ],
   "source": [
    "print(fit)"
   ]
  },
  {
   "cell_type": "code",
   "execution_count": 25,
   "id": "2a1957a1",
   "metadata": {},
   "outputs": [],
   "source": [
    "x_val=182"
   ]
  },
  {
   "cell_type": "code",
   "execution_count": 26,
   "id": "a892b800",
   "metadata": {},
   "outputs": [
    {
     "name": "stdout",
     "output_type": "stream",
     "text": [
      "Количество заразившихся на x-й день начиная с 3 марта: 225823884870300152627200\n"
     ]
    }
   ],
   "source": [
    "print(\"Количество заразившихся на x-й день начиная с 3 марта:\", int(0.2155719*1.35512388**x_val))"
   ]
  },
  {
   "cell_type": "code",
   "execution_count": 27,
   "id": "4b204b51",
   "metadata": {},
   "outputs": [
    {
     "ename": "NameError",
     "evalue": "name 'plt' is not defined",
     "output_type": "error",
     "traceback": [
      "\u001b[1;31m---------------------------------------------------------------------------\u001b[0m",
      "\u001b[1;31mNameError\u001b[0m                                 Traceback (most recent call last)",
      "\u001b[1;32mC:\\Users\\SKIENB~1\\AppData\\Local\\Temp/ipykernel_10016/2553437981.py\u001b[0m in \u001b[0;36m<module>\u001b[1;34m\u001b[0m\n\u001b[0;32m      5\u001b[0m \u001b[0mr\u001b[0m \u001b[1;33m=\u001b[0m \u001b[1;36m50\u001b[0m\u001b[1;33m\u001b[0m\u001b[1;33m\u001b[0m\u001b[0m\n\u001b[0;32m      6\u001b[0m \u001b[0mxs\u001b[0m \u001b[1;33m=\u001b[0m \u001b[0mnp\u001b[0m\u001b[1;33m.\u001b[0m\u001b[0marange\u001b[0m\u001b[1;33m(\u001b[0m\u001b[1;36m1\u001b[0m\u001b[1;33m,\u001b[0m \u001b[0mr\u001b[0m\u001b[1;33m+\u001b[0m\u001b[1;36m1\u001b[0m\u001b[1;33m,\u001b[0m \u001b[1;36m1\u001b[0m\u001b[1;33m)\u001b[0m\u001b[1;33m\u001b[0m\u001b[1;33m\u001b[0m\u001b[0m\n\u001b[1;32m----> 7\u001b[1;33m \u001b[0mfig\u001b[0m \u001b[1;33m=\u001b[0m \u001b[0mplt\u001b[0m\u001b[1;33m.\u001b[0m\u001b[0mfigure\u001b[0m\u001b[1;33m(\u001b[0m\u001b[0mfigsize\u001b[0m\u001b[1;33m=\u001b[0m\u001b[0mfigsize\u001b[0m\u001b[1;33m)\u001b[0m\u001b[1;33m\u001b[0m\u001b[1;33m\u001b[0m\u001b[0m\n\u001b[0m\u001b[0;32m      8\u001b[0m \u001b[0max\u001b[0m \u001b[1;33m=\u001b[0m \u001b[0mfig\u001b[0m\u001b[1;33m.\u001b[0m\u001b[0madd_subplot\u001b[0m\u001b[1;33m(\u001b[0m\u001b[1;36m111\u001b[0m\u001b[1;33m)\u001b[0m\u001b[1;33m\u001b[0m\u001b[1;33m\u001b[0m\u001b[0m\n\u001b[0;32m      9\u001b[0m \u001b[0max\u001b[0m\u001b[1;33m.\u001b[0m\u001b[0mplot\u001b[0m\u001b[1;33m(\u001b[0m\u001b[0mxs\u001b[0m\u001b[1;33m,\u001b[0m \u001b[0mres_curve\u001b[0m\u001b[1;33m(\u001b[0m\u001b[0mxs\u001b[0m\u001b[1;33m)\u001b[0m\u001b[1;33m,\u001b[0m \u001b[0mlinewidth\u001b[0m\u001b[1;33m=\u001b[0m\u001b[1;36m2\u001b[0m\u001b[1;33m,\u001b[0m \u001b[0mlabel\u001b[0m\u001b[1;33m=\u001b[0m\u001b[1;34mr\"Результат экспоненциальной регрессии обученной модели\"\u001b[0m\u001b[1;33m)\u001b[0m\u001b[1;33m\u001b[0m\u001b[1;33m\u001b[0m\u001b[0m\n",
      "\u001b[1;31mNameError\u001b[0m: name 'plt' is not defined"
     ]
    }
   ],
   "source": [
    "N = 250\n",
    "true_mu = [0.2155719 , 1.35512388]\n",
    "def res_curve(x):\n",
    "    return true_mu[0]*true_mu[1]**x\n",
    "r = 50\n",
    "xs = np.arange(1, r+1, 1)\n",
    "fig = plt.figure(figsize=figsize)\n",
    "ax = fig.add_subplot(111)\n",
    "ax.plot(xs, res_curve(xs), linewidth=2, label=r\"Результат экспоненциальной регрессии обученной модели\")\n",
    "ax.scatter(xs, np.array(df['total_cases'][:r]), linewidth=2, label=r\"Данные, на которых обучались\")\n",
    "ax.legend(loc=\"upper left\", fontsize=10)\n",
    "plt.show()\n"
   ]
  },
  {
   "cell_type": "code",
   "execution_count": null,
   "id": "25fb2ed1",
   "metadata": {},
   "outputs": [],
   "source": [
    "# xs = np.linspace(-3, 3, N)\n",
    "X = np.linspace(-0.1, 0.5, N)\n",
    "Y = np.linspace(1.1, 1.7, N)\n",
    "X, Y = np.meshgrid(X, Y)\n",
    "\n",
    "pos = np.empty(X.shape + (2,))\n",
    "pos[:, :, 0] = X\n",
    "pos[:, :, 1] = Y\n",
    "\n",
    "def myplot_heatmap(Z):\n",
    "    # Make the plot\n",
    "    plt.axis('equal')\n",
    "    plt.xlim((0.0, 0.5))\n",
    "    plt.ylim((1.0, 1.7))\n",
    "    plt.pcolormesh(X, Y, Z, cmap=plt.cm.jet)\n",
    "    plt.scatter(true_mu[0], true_mu[1], marker='*', s=120)"
   ]
  },
  {
   "cell_type": "code",
   "execution_count": null,
   "id": "6c53148f",
   "metadata": {},
   "outputs": [],
   "source": [
    "cur_mu, cur_sigma = np.array([0.21, 1.35]), 2*np.array([[0.1, 0], [0, 0.1]])\n",
    "\n",
    "Z = multivariate_normal.pdf(pos, mean=cur_mu, cov=cur_sigma)\n",
    "print(Z.shape)\n",
    "\n",
    "fig = plt.figure(figsize=figsize)\n",
    "ax = fig.add_subplot(111)\n",
    "ax.set_xlim((xs[0], xs[-1]))\n",
    "ax.set_ylim((-2, 5))\n",
    "myplot_heatmap(Z)"
   ]
  },
  {
   "cell_type": "code",
   "execution_count": null,
   "id": "c26de1fd",
   "metadata": {},
   "outputs": [],
   "source": [
    "xs"
   ]
  },
  {
   "cell_type": "code",
   "execution_count": null,
   "id": "34e47908",
   "metadata": {},
   "outputs": [],
   "source": [
    "def myplot_sample_lines(mu, sigma, n=20, points=None):\n",
    "    # Посэмплируем и порисуем прямые\n",
    "    my_w = np.random.multivariate_normal(mu, sigma, n)\n",
    "\n",
    "    for w in my_w:\n",
    "        plt.plot(xs, w[0]*w[1]**xs, 'k-', lw=.6)\n",
    "    plt.ylim((-300, 300))\n",
    "    plt.xlim((0, 30))\n",
    "    if not points is None:\n",
    "        plt.scatter(points[0], points[1], marker='*', s=200)"
   ]
  },
  {
   "cell_type": "code",
   "execution_count": null,
   "id": "cf64416d",
   "metadata": {},
   "outputs": [],
   "source": [
    "fig = plt.figure(figsize=figsize)\n",
    "ax = fig.add_subplot(111)\n",
    "ax.set_xlim((xs[0], xs[-1]))\n",
    "ax.set_xlim((-30, 30))\n",
    "ax.set_ylim((-3, 3))\n",
    "myplot_sample_lines(cur_mu, cur_sigma, 20)"
   ]
  },
  {
   "cell_type": "code",
   "execution_count": null,
   "id": "f41ce18a",
   "metadata": {},
   "outputs": [],
   "source": [
    "def get_likelihood(px, py, sigma=5):\n",
    "    return lambda x : np.exp(-(x[0]*x[1]**px - py) ** 2) / (2 * sigma * np.sqrt(2.*np.pi))\n",
    "\n",
    "px, py = xs[1], np.array(df['total_cases'][:r])[1]\n",
    "cur_likelihood = get_likelihood(px, py)\n",
    "print(cur_likelihood)\n",
    "Z = np.array([[ cur_likelihood(pos[i, j]) for j in range(pos.shape[1])] for i in range(pos.shape[0])])\n",
    "print(len(Z))\n",
    "\n",
    "fig = plt.figure(figsize=figsize)\n",
    "ax = fig.add_subplot(111)\n",
    "ax.set_xlim((xs[0], xs[-1]))\n",
    "ax.set_ylim((-3, 3))\n",
    "myplot_heatmap(Z)"
   ]
  },
  {
   "cell_type": "code",
   "execution_count": null,
   "id": "7eed0b9a",
   "metadata": {},
   "outputs": [],
   "source": [
    "def bayesian_update(mu, sigma, x, y, sigma_noise=.1):\n",
    "    x_matrix = np.array([[1, x]])\n",
    "    sigma_n = np.linalg.inv(np.linalg.inv(sigma)+ (1 / (sigma_noise ** 2)) * np.matmul(np.transpose(x_matrix), x_matrix) )\n",
    "    mu_n = np.matmul(sigma_n, np.matmul(np.linalg.inv(sigma), np.transpose(mu)) + (1 / (sigma_noise ** 2)) * np.matmul(np.transpose(x_matrix), np.array([y]) ) )\n",
    "    return mu_n, sigma_n"
   ]
  },
  {
   "cell_type": "code",
   "execution_count": null,
   "id": "524c2506",
   "metadata": {},
   "outputs": [],
   "source": [
    "cur_mu, cur_sigma = bayesian_update(cur_mu, cur_sigma, px, py)\n",
    "Z = multivariate_normal.pdf(pos, mean=cur_mu, cov=cur_sigma)\n",
    "\n",
    "fig = plt.figure(figsize=figsize)\n",
    "ax = fig.add_subplot(111)\n",
    "ax.set_xlim((xs[0], xs[-1]))\n",
    "ax.set_ylim((0, 6))\n",
    "myplot_heatmap(Z)"
   ]
  },
  {
   "cell_type": "code",
   "execution_count": null,
   "id": "8a8e874f",
   "metadata": {},
   "outputs": [],
   "source": [
    "# Посэмплируем и порисуем прямые\n",
    "fig = plt.figure(figsize=figsize)\n",
    "ax = fig.add_subplot(111)\n",
    "ax.set_xlim((xs[0], xs[-1]))\n",
    "ax.set_ylim((1, 5))\n",
    "myplot_sample_lines(cur_mu, cur_sigma, 50, points=[[px], [py]])"
   ]
  },
  {
   "cell_type": "code",
   "execution_count": null,
   "id": "4e52bc9a",
   "metadata": {},
   "outputs": [],
   "source": [
    "# Посэмплируем прямые и выдадим статистики по предсказаниям\n",
    "def sample_statistics(mu, sigma, xs, n=20):\n",
    "    my_w = np.random.multivariate_normal(mu, sigma, n)\n",
    "    res = np.zeros((n, xs.shape[0]))\n",
    "    for i,w in enumerate(my_w):\n",
    "        res[i,:] = w[0] * w[1]**xs\n",
    "    return res"
   ]
  },
  {
   "cell_type": "code",
   "execution_count": null,
   "id": "ffef1118",
   "metadata": {},
   "outputs": [],
   "source": [
    "xs"
   ]
  },
  {
   "cell_type": "code",
   "execution_count": null,
   "id": "1ec907a9",
   "metadata": {},
   "outputs": [],
   "source": [
    "# Нарисуем результат\n",
    "def plot_predictions(xs, mu, x, points):\n",
    "    fig = plt.figure(figsize=figsize)\n",
    "    ax = fig.add_subplot(111)\n",
    "    ax.set_xlim((xs[0], xs[-1]))\n",
    "    ax.set_ylim((0, 500))\n",
    "    ax.plot(xs, res_curve(xs), label=\"Предполагаемый правильный ответ\")\n",
    "    ax.plot(xs,  mu[0] * mu[1]**xs, color=\"red\", label=\"MAP гипотеза\")\n",
    "    ax.fill_between(xs, mu[1]**xs * mu[0] - .25, mu[1]**xs * mu[0] + .25, color=palette[1], alpha=.3, label=\"+- дисперсия шума\")\n",
    "    ax.fill_between(xs, np.mean(x, axis=0) - np.std(x, axis=0), np.mean(x, axis=0) + np.std(x, axis=0), color=palette[5], alpha=.2, label=\"+- дисперсия предсказаний\")\n",
    "    ax.scatter(points[0], points[1], marker='*', s=200)\n",
    "    ax.legend(fontsize=legend_fontsize)"
   ]
  },
  {
   "cell_type": "code",
   "execution_count": null,
   "id": "2a18d93b",
   "metadata": {},
   "outputs": [],
   "source": [
    "x = sample_statistics(cur_mu, cur_sigma, xs, n=1000)\n",
    "plot_predictions(xs, cur_mu, x, [[px], [py]])"
   ]
  },
  {
   "cell_type": "code",
   "execution_count": null,
   "id": "3ebc3fb7",
   "metadata": {},
   "outputs": [],
   "source": [
    "px2, py2 = xs[10], np.array(df['total_cases'][:r])[7]\n",
    "cur_likelihood = get_likelihood(px2, py2)\n",
    "Z = np.array([[ cur_likelihood(pos[i, j]) for j in range(pos.shape[1])] for i in range(pos.shape[0])])\n",
    "\n",
    "fig = plt.figure(figsize=figsize)\n",
    "ax = fig.add_subplot(111)\n",
    "ax.set_xlim((xs[0], xs[-1]))\n",
    "ax.set_ylim((-3, 3))\n",
    "myplot_heatmap(Z)"
   ]
  },
  {
   "cell_type": "code",
   "execution_count": null,
   "id": "4c953bec",
   "metadata": {},
   "outputs": [],
   "source": [
    "cur_mu, cur_sigma = bayesian_update(cur_mu, cur_sigma, px2, py2)\n",
    "Z = multivariate_normal.pdf(pos, mean=cur_mu, cov=cur_sigma)\n",
    "\n",
    "fig = plt.figure(figsize=figsize)\n",
    "ax = fig.add_subplot(111)\n",
    "ax.set_xlim((xs[0], xs[-1]))\n",
    "ax.set_ylim((-5, 5))\n",
    "myplot_heatmap(Z)"
   ]
  },
  {
   "cell_type": "code",
   "execution_count": null,
   "id": "ba8827bb",
   "metadata": {},
   "outputs": [],
   "source": [
    "# Посэмплируем и порисуем прямые\n",
    "fig = plt.figure(figsize=figsize)\n",
    "ax = fig.add_subplot(111)\n",
    "ax.set_xlim((xs[0], xs[-1]))\n",
    "ax.set_ylim((-3, 3))\n",
    "myplot_sample_lines(cur_mu, cur_sigma, n=50, points=[[px, px2], [py, py2]])"
   ]
  },
  {
   "cell_type": "code",
   "execution_count": 28,
   "id": "dc09505d",
   "metadata": {},
   "outputs": [
    {
     "ename": "NameError",
     "evalue": "name 'sample_statistics' is not defined",
     "output_type": "error",
     "traceback": [
      "\u001b[1;31m---------------------------------------------------------------------------\u001b[0m",
      "\u001b[1;31mNameError\u001b[0m                                 Traceback (most recent call last)",
      "\u001b[1;32mC:\\Users\\SKIENB~1\\AppData\\Local\\Temp/ipykernel_10016/3892513935.py\u001b[0m in \u001b[0;36m<module>\u001b[1;34m\u001b[0m\n\u001b[1;32m----> 1\u001b[1;33m \u001b[0mx\u001b[0m \u001b[1;33m=\u001b[0m \u001b[0msample_statistics\u001b[0m\u001b[1;33m(\u001b[0m\u001b[0mcur_mu\u001b[0m\u001b[1;33m,\u001b[0m \u001b[0mcur_sigma\u001b[0m\u001b[1;33m,\u001b[0m \u001b[0mxs\u001b[0m\u001b[1;33m,\u001b[0m \u001b[0mn\u001b[0m\u001b[1;33m=\u001b[0m\u001b[1;36m2000\u001b[0m\u001b[1;33m)\u001b[0m\u001b[1;33m\u001b[0m\u001b[1;33m\u001b[0m\u001b[0m\n\u001b[0m\u001b[0;32m      2\u001b[0m \u001b[0mplot_predictions\u001b[0m\u001b[1;33m(\u001b[0m\u001b[0mxs\u001b[0m\u001b[1;33m,\u001b[0m \u001b[0mcur_mu\u001b[0m\u001b[1;33m,\u001b[0m \u001b[0mx\u001b[0m\u001b[1;33m,\u001b[0m \u001b[1;33m[\u001b[0m\u001b[1;33m[\u001b[0m\u001b[0mpx\u001b[0m\u001b[1;33m,\u001b[0m \u001b[0mpx2\u001b[0m\u001b[1;33m]\u001b[0m\u001b[1;33m,\u001b[0m \u001b[1;33m[\u001b[0m\u001b[0mpy\u001b[0m\u001b[1;33m,\u001b[0m \u001b[0mpy2\u001b[0m\u001b[1;33m]\u001b[0m\u001b[1;33m]\u001b[0m\u001b[1;33m)\u001b[0m\u001b[1;33m\u001b[0m\u001b[1;33m\u001b[0m\u001b[0m\n",
      "\u001b[1;31mNameError\u001b[0m: name 'sample_statistics' is not defined"
     ]
    }
   ],
   "source": [
    "x = sample_statistics(cur_mu, cur_sigma, xs, n=2000)\n",
    "plot_predictions(xs, cur_mu, x, [[px, px2], [py, py2]])"
   ]
  },
  {
   "cell_type": "code",
   "execution_count": 29,
   "id": "4f4c5efc",
   "metadata": {},
   "outputs": [
    {
     "ename": "NameError",
     "evalue": "name 'get_likelihood' is not defined",
     "output_type": "error",
     "traceback": [
      "\u001b[1;31m---------------------------------------------------------------------------\u001b[0m",
      "\u001b[1;31mNameError\u001b[0m                                 Traceback (most recent call last)",
      "\u001b[1;32mC:\\Users\\SKIENB~1\\AppData\\Local\\Temp/ipykernel_10016/747420876.py\u001b[0m in \u001b[0;36m<module>\u001b[1;34m\u001b[0m\n\u001b[0;32m      1\u001b[0m \u001b[0mpx3\u001b[0m\u001b[1;33m,\u001b[0m \u001b[0mpy3\u001b[0m \u001b[1;33m=\u001b[0m \u001b[0mxs\u001b[0m\u001b[1;33m[\u001b[0m\u001b[1;36m15\u001b[0m\u001b[1;33m]\u001b[0m\u001b[1;33m,\u001b[0m \u001b[0mnp\u001b[0m\u001b[1;33m.\u001b[0m\u001b[0marray\u001b[0m\u001b[1;33m(\u001b[0m\u001b[0mdf\u001b[0m\u001b[1;33m[\u001b[0m\u001b[1;34m'total_cases'\u001b[0m\u001b[1;33m]\u001b[0m\u001b[1;33m[\u001b[0m\u001b[1;33m:\u001b[0m\u001b[0mr\u001b[0m\u001b[1;33m]\u001b[0m\u001b[1;33m)\u001b[0m\u001b[1;33m[\u001b[0m\u001b[1;36m8\u001b[0m\u001b[1;33m]\u001b[0m\u001b[1;33m\u001b[0m\u001b[1;33m\u001b[0m\u001b[0m\n\u001b[1;32m----> 2\u001b[1;33m \u001b[0mcur_likelihood\u001b[0m \u001b[1;33m=\u001b[0m \u001b[0mget_likelihood\u001b[0m\u001b[1;33m(\u001b[0m\u001b[0mpx3\u001b[0m\u001b[1;33m,\u001b[0m \u001b[0mpy3\u001b[0m\u001b[1;33m)\u001b[0m\u001b[1;33m\u001b[0m\u001b[1;33m\u001b[0m\u001b[0m\n\u001b[0m\u001b[0;32m      3\u001b[0m \u001b[0mZ\u001b[0m \u001b[1;33m=\u001b[0m \u001b[0mnp\u001b[0m\u001b[1;33m.\u001b[0m\u001b[0marray\u001b[0m\u001b[1;33m(\u001b[0m\u001b[1;33m[\u001b[0m\u001b[1;33m[\u001b[0m \u001b[0mcur_likelihood\u001b[0m\u001b[1;33m(\u001b[0m\u001b[0mpos\u001b[0m\u001b[1;33m[\u001b[0m\u001b[0mi\u001b[0m\u001b[1;33m,\u001b[0m \u001b[0mj\u001b[0m\u001b[1;33m]\u001b[0m\u001b[1;33m)\u001b[0m \u001b[1;32mfor\u001b[0m \u001b[0mj\u001b[0m \u001b[1;32min\u001b[0m \u001b[0mrange\u001b[0m\u001b[1;33m(\u001b[0m\u001b[0mpos\u001b[0m\u001b[1;33m.\u001b[0m\u001b[0mshape\u001b[0m\u001b[1;33m[\u001b[0m\u001b[1;36m1\u001b[0m\u001b[1;33m]\u001b[0m\u001b[1;33m)\u001b[0m\u001b[1;33m]\u001b[0m \u001b[1;32mfor\u001b[0m \u001b[0mi\u001b[0m \u001b[1;32min\u001b[0m \u001b[0mrange\u001b[0m\u001b[1;33m(\u001b[0m\u001b[0mpos\u001b[0m\u001b[1;33m.\u001b[0m\u001b[0mshape\u001b[0m\u001b[1;33m[\u001b[0m\u001b[1;36m0\u001b[0m\u001b[1;33m]\u001b[0m\u001b[1;33m)\u001b[0m\u001b[1;33m]\u001b[0m\u001b[1;33m)\u001b[0m\u001b[1;33m\u001b[0m\u001b[1;33m\u001b[0m\u001b[0m\n\u001b[0;32m      4\u001b[0m \u001b[0mmyplot_heatmap\u001b[0m\u001b[1;33m(\u001b[0m\u001b[0mZ\u001b[0m\u001b[1;33m)\u001b[0m\u001b[1;33m\u001b[0m\u001b[1;33m\u001b[0m\u001b[0m\n\u001b[0;32m      5\u001b[0m \u001b[0mplt\u001b[0m\u001b[1;33m.\u001b[0m\u001b[0mshow\u001b[0m\u001b[1;33m(\u001b[0m\u001b[1;33m)\u001b[0m\u001b[1;33m\u001b[0m\u001b[1;33m\u001b[0m\u001b[0m\n",
      "\u001b[1;31mNameError\u001b[0m: name 'get_likelihood' is not defined"
     ]
    }
   ],
   "source": [
    "px3, py3 = xs[15], np.array(df['total_cases'][:r])[8]\n",
    "cur_likelihood = get_likelihood(px3, py3)\n",
    "Z = np.array([[ cur_likelihood(pos[i, j]) for j in range(pos.shape[1])] for i in range(pos.shape[0])])\n",
    "myplot_heatmap(Z)\n",
    "plt.show()\n",
    "cur_mu, cur_sigma = bayesian_update(cur_mu, cur_sigma, px3, py3)\n",
    "Z = multivariate_normal.pdf(pos, mean=cur_mu, cov=cur_sigma)\n",
    "myplot_heatmap(Z)\n",
    "plt.show()\n",
    "myplot_sample_lines(cur_mu, cur_sigma, n=200, points=[[px, px2, px3], [py, py2, py3]])\n",
    "plt.show()"
   ]
  },
  {
   "cell_type": "code",
   "execution_count": 30,
   "id": "4139bcab",
   "metadata": {},
   "outputs": [
    {
     "ename": "NameError",
     "evalue": "name 'sample_statistics' is not defined",
     "output_type": "error",
     "traceback": [
      "\u001b[1;31m---------------------------------------------------------------------------\u001b[0m",
      "\u001b[1;31mNameError\u001b[0m                                 Traceback (most recent call last)",
      "\u001b[1;32mC:\\Users\\SKIENB~1\\AppData\\Local\\Temp/ipykernel_10016/1436101780.py\u001b[0m in \u001b[0;36m<module>\u001b[1;34m\u001b[0m\n\u001b[1;32m----> 1\u001b[1;33m \u001b[0mx\u001b[0m \u001b[1;33m=\u001b[0m \u001b[0msample_statistics\u001b[0m\u001b[1;33m(\u001b[0m\u001b[0mcur_mu\u001b[0m\u001b[1;33m,\u001b[0m \u001b[0mcur_sigma\u001b[0m\u001b[1;33m,\u001b[0m \u001b[0mxs\u001b[0m\u001b[1;33m,\u001b[0m \u001b[0mn\u001b[0m\u001b[1;33m=\u001b[0m\u001b[1;36m2000\u001b[0m\u001b[1;33m)\u001b[0m\u001b[1;33m\u001b[0m\u001b[1;33m\u001b[0m\u001b[0m\n\u001b[0m\u001b[0;32m      2\u001b[0m \u001b[0mplot_predictions\u001b[0m\u001b[1;33m(\u001b[0m\u001b[0mxs\u001b[0m\u001b[1;33m,\u001b[0m \u001b[0mcur_mu\u001b[0m\u001b[1;33m,\u001b[0m \u001b[0mx\u001b[0m\u001b[1;33m,\u001b[0m \u001b[1;33m[\u001b[0m\u001b[1;33m[\u001b[0m\u001b[0mpx\u001b[0m\u001b[1;33m,\u001b[0m \u001b[0mpx2\u001b[0m\u001b[1;33m,\u001b[0m \u001b[0mpx3\u001b[0m\u001b[1;33m]\u001b[0m\u001b[1;33m,\u001b[0m \u001b[1;33m[\u001b[0m\u001b[0mpy\u001b[0m\u001b[1;33m,\u001b[0m \u001b[0mpy2\u001b[0m\u001b[1;33m,\u001b[0m \u001b[0mpy3\u001b[0m\u001b[1;33m]\u001b[0m\u001b[1;33m]\u001b[0m\u001b[1;33m)\u001b[0m\u001b[1;33m\u001b[0m\u001b[1;33m\u001b[0m\u001b[0m\n",
      "\u001b[1;31mNameError\u001b[0m: name 'sample_statistics' is not defined"
     ]
    }
   ],
   "source": [
    "x = sample_statistics(cur_mu, cur_sigma, xs, n=2000)\n",
    "plot_predictions(xs, cur_mu, x, [[px, px2, px3], [py, py2, py3]])"
   ]
  },
  {
   "cell_type": "code",
   "execution_count": 31,
   "id": "73b629fe",
   "metadata": {},
   "outputs": [
    {
     "data": {
      "text/plain": [
       "array([ 1,  2,  3,  4,  5,  6,  7,  8,  9, 10, 11, 12, 13, 14, 15, 16, 17,\n",
       "       18, 19, 20, 21, 22, 23, 24, 25, 26, 27, 28, 29, 30, 31, 32, 33, 34,\n",
       "       35, 36, 37, 38, 39, 40, 41, 42, 43, 44, 45, 46, 47, 48, 49, 50])"
      ]
     },
     "execution_count": 31,
     "metadata": {},
     "output_type": "execute_result"
    }
   ],
   "source": [
    "xs"
   ]
  },
  {
   "cell_type": "markdown",
   "id": "2fb64163",
   "metadata": {},
   "source": [
    "Предсказательные распределения"
   ]
  },
  {
   "cell_type": "code",
   "execution_count": 32,
   "id": "3ae73c3a",
   "metadata": {},
   "outputs": [],
   "source": [
    "def sample_statistics(mu, sigma, xs, n=20):\n",
    "    my_w = np.random.multivariate_normal(mu, sigma, n)\n",
    "    res = np.zeros((n, xs.shape[0]))\n",
    "    for i,w in enumerate(my_w):\n",
    "        res[i,:] = w[0] * w[1]**xs\n",
    "    return res"
   ]
  },
  {
   "cell_type": "code",
   "execution_count": 33,
   "id": "5af2ea4a",
   "metadata": {},
   "outputs": [],
   "source": [
    "day = np.arange(1, 183, 1)"
   ]
  },
  {
   "cell_type": "code",
   "execution_count": 1729,
   "id": "cf374e83",
   "metadata": {},
   "outputs": [],
   "source": [
    "x_may = sample_statistics(cur_mu, cur_sigma, day[:59], n=300)\n",
    "x_june = sample_statistics(cur_mu, cur_sigma, day[:90], n=300)\n",
    "x_september = sample_statistics(cur_mu, cur_sigma, day[:182], n=300)"
   ]
  },
  {
   "cell_type": "code",
   "execution_count": 1747,
   "id": "558b8602",
   "metadata": {},
   "outputs": [
    {
     "data": {
      "image/png": "[encoded data removed]",
      "text/plain": [
       "<Figure size 432x288 with 1 Axes>"
      ]
     },
     "metadata": {},
     "output_type": "display_data"
    }
   ],
   "source": [
    "plt.title(\"Предсказательное распределение к первому мая\")\n",
    "plt.hist(x_may[:, -1], bins=20)\n",
    "plt.show()"
   ]
  },
  {
   "cell_type": "code",
   "execution_count": 1748,
   "id": "746321e5",
   "metadata": {},
   "outputs": [
    {
     "data": {
      "image/png": "[encoded data removed]",
      "text/plain": [
       "<Figure size 432x288 with 1 Axes>"
      ]
     },
     "metadata": {},
     "output_type": "display_data"
    }
   ],
   "source": [
    "plt.title(\"Предсказательное распределение к первому июня\")\n",
    "plt.hist(x_june[:, -1], bins=20)\n",
    "plt.show()"
   ]
  },
  {
   "cell_type": "code",
   "execution_count": 1749,
   "id": "4bded0cb",
   "metadata": {},
   "outputs": [
    {
     "data": {
      "image/png": "[encoded data removed]",
      "text/plain": [
       "<Figure size 432x288 with 1 Axes>"
      ]
     },
     "metadata": {},
     "output_type": "display_data"
    }
   ],
   "source": [
    "plt.title(\"Предсказательное распределение к первому сентября\")\n",
    "plt.hist(x_september[:, -1], bins=200)\n",
    "plt.xlim(-1, 0.04*(10**23))\n",
    "plt.show()"
   ]
  },
  {
   "cell_type": "markdown",
   "id": "f3a0f88c",
   "metadata": {},
   "source": [
    "Сигмоидальное распределение"
   ]
  },
  {
   "cell_type": "markdown",
   "id": "8a8b0bc7",
   "metadata": {},
   "source": [
    "Если продифференцировать обе части предложенного уравнения сигмоиды а также взять в логарифм, то получим выражение, которое можно охарактеризовать полином как вида a*x^2+b*x +c"
   ]
  },
  {
   "cell_type": "markdown",
   "id": "27e313f3",
   "metadata": {},
   "source": [
    "Таким образом можно просуммировать прогнозы новых приращений для получения прогноза заболеваемости на конкретную дату"
   ]
  },
  {
   "cell_type": "code",
   "execution_count": 1751,
   "id": "3b282fcc",
   "metadata": {},
   "outputs": [
    {
     "name": "stderr",
     "output_type": "stream",
     "text": [
      "*c* argument looks like a single numeric RGB or RGBA sequence, which should be avoided as value-mapping will have precedence in case its length matches with *x* & *y*.  Please use the *color* keyword-argument or provide a 2D array with a single row if you intend to specify the same RGB or RGBA value for all points.\n"
     ]
    },
    {
     "data": {
      "image/png": "[encoded data removed]",
      "text/plain": [
       "<Figure size 432x288 with 1 Axes>"
      ]
     },
     "metadata": {},
     "output_type": "display_data"
    }
   ],
   "source": [
    "df.plot.scatter(x=\"date\", y=\"new_cases\");"
   ]
  },
  {
   "cell_type": "code",
   "execution_count": 4,
   "id": "10bef603",
   "metadata": {},
   "outputs": [
    {
     "ename": "NameError",
     "evalue": "name 'df' is not defined",
     "output_type": "error",
     "traceback": [
      "\u001b[1;31m---------------------------------------------------------------------------\u001b[0m",
      "\u001b[1;31mNameError\u001b[0m                                 Traceback (most recent call last)",
      "\u001b[1;32mC:\\Users\\SKIENB~1\\AppData\\Local\\Temp/ipykernel_10016/2778211536.py\u001b[0m in \u001b[0;36m<module>\u001b[1;34m\u001b[0m\n\u001b[0;32m      1\u001b[0m \u001b[0mx\u001b[0m \u001b[1;33m=\u001b[0m \u001b[0mnp\u001b[0m\u001b[1;33m.\u001b[0m\u001b[0marange\u001b[0m\u001b[1;33m(\u001b[0m\u001b[1;36m1\u001b[0m\u001b[1;33m,\u001b[0m \u001b[1;36m201\u001b[0m\u001b[1;33m,\u001b[0m \u001b[1;36m1\u001b[0m\u001b[1;33m)\u001b[0m\u001b[1;33m\u001b[0m\u001b[1;33m\u001b[0m\u001b[0m\n\u001b[1;32m----> 2\u001b[1;33m \u001b[0my\u001b[0m \u001b[1;33m=\u001b[0m \u001b[0mnp\u001b[0m\u001b[1;33m.\u001b[0m\u001b[0marray\u001b[0m\u001b[1;33m(\u001b[0m\u001b[0mdf\u001b[0m\u001b[1;33m[\u001b[0m\u001b[1;34m'new_cases'\u001b[0m\u001b[1;33m]\u001b[0m\u001b[1;33m[\u001b[0m\u001b[1;33m:\u001b[0m\u001b[1;36m200\u001b[0m\u001b[1;33m]\u001b[0m\u001b[1;33m)\u001b[0m\u001b[1;33m\u001b[0m\u001b[1;33m\u001b[0m\u001b[0m\n\u001b[0m",
      "\u001b[1;31mNameError\u001b[0m: name 'df' is not defined"
     ]
    }
   ],
   "source": [
    "x = np.arange(1, 201, 1)\n",
    "y = np.array(df['new_cases'][:200])"
   ]
  },
  {
   "cell_type": "code",
   "execution_count": 1777,
   "id": "cb30f719",
   "metadata": {},
   "outputs": [],
   "source": [
    "fit = np.polyfit(x, np.log(y), 2)"
   ]
  },
  {
   "cell_type": "code",
   "execution_count": 1778,
   "id": "39498191",
   "metadata": {},
   "outputs": [
    {
     "name": "stdout",
     "output_type": "stream",
     "text": [
      "[-7.67541837e-01  1.74174897e+02 -1.75904385e+03]\n"
     ]
    }
   ],
   "source": [
    "print(fit)"
   ]
  },
  {
   "cell_type": "code",
   "execution_count": 1,
   "id": "d05376cf",
   "metadata": {},
   "outputs": [
    {
     "ename": "NameError",
     "evalue": "name 'np' is not defined",
     "output_type": "error",
     "traceback": [
      "\u001b[1;31m---------------------------------------------------------------------------\u001b[0m",
      "\u001b[1;31mNameError\u001b[0m                                 Traceback (most recent call last)",
      "\u001b[1;32mC:\\Users\\SKIENB~1\\AppData\\Local\\Temp/ipykernel_10016/4048659621.py\u001b[0m in \u001b[0;36m<module>\u001b[1;34m\u001b[0m\n\u001b[0;32m      9\u001b[0m     \u001b[1;32mreturn\u001b[0m \u001b[0mnp\u001b[0m\u001b[1;33m.\u001b[0m\u001b[0mexp\u001b[0m\u001b[1;33m(\u001b[0m\u001b[0mtrue_mu\u001b[0m\u001b[1;33m[\u001b[0m\u001b[1;36m2\u001b[0m\u001b[1;33m]\u001b[0m\u001b[1;33m*\u001b[0m\u001b[0mx\u001b[0m\u001b[1;33m**\u001b[0m\u001b[1;36m2\u001b[0m \u001b[1;33m+\u001b[0m  \u001b[0mtrue_mu\u001b[0m\u001b[1;33m[\u001b[0m\u001b[1;36m1\u001b[0m\u001b[1;33m]\u001b[0m\u001b[1;33m*\u001b[0m\u001b[0mx\u001b[0m \u001b[1;33m+\u001b[0m \u001b[0mtrue_mu\u001b[0m\u001b[1;33m[\u001b[0m\u001b[1;36m0\u001b[0m\u001b[1;33m]\u001b[0m\u001b[1;33m)\u001b[0m\u001b[1;33m\u001b[0m\u001b[1;33m\u001b[0m\u001b[0m\n\u001b[0;32m     10\u001b[0m \u001b[0mr\u001b[0m \u001b[1;33m=\u001b[0m \u001b[1;36m200\u001b[0m\u001b[1;33m\u001b[0m\u001b[1;33m\u001b[0m\u001b[0m\n\u001b[1;32m---> 11\u001b[1;33m \u001b[0mxs\u001b[0m \u001b[1;33m=\u001b[0m \u001b[0mnp\u001b[0m\u001b[1;33m.\u001b[0m\u001b[0marange\u001b[0m\u001b[1;33m(\u001b[0m\u001b[1;36m1\u001b[0m\u001b[1;33m,\u001b[0m \u001b[0mr\u001b[0m\u001b[1;33m+\u001b[0m\u001b[1;36m1\u001b[0m\u001b[1;33m,\u001b[0m \u001b[1;36m1\u001b[0m\u001b[1;33m)\u001b[0m\u001b[1;33m\u001b[0m\u001b[1;33m\u001b[0m\u001b[0m\n\u001b[0m\u001b[0;32m     12\u001b[0m \u001b[0mfig\u001b[0m \u001b[1;33m=\u001b[0m \u001b[0mplt\u001b[0m\u001b[1;33m.\u001b[0m\u001b[0mfigure\u001b[0m\u001b[1;33m(\u001b[0m\u001b[0mfigsize\u001b[0m\u001b[1;33m=\u001b[0m\u001b[0mfigsize\u001b[0m\u001b[1;33m)\u001b[0m\u001b[1;33m\u001b[0m\u001b[1;33m\u001b[0m\u001b[0m\n\u001b[0;32m     13\u001b[0m \u001b[0max\u001b[0m \u001b[1;33m=\u001b[0m \u001b[0mfig\u001b[0m\u001b[1;33m.\u001b[0m\u001b[0madd_subplot\u001b[0m\u001b[1;33m(\u001b[0m\u001b[1;36m111\u001b[0m\u001b[1;33m)\u001b[0m\u001b[1;33m\u001b[0m\u001b[1;33m\u001b[0m\u001b[0m\n",
      "\u001b[1;31mNameError\u001b[0m: name 'np' is not defined"
     ]
    }
   ],
   "source": [
    "N = 250\n",
    "true_mu = [-0.000483428831,  0.120121672, 2.24390243]\n",
    "# true_mu = [-0.767541837,  174.174897, -1759.04385]\n",
    "# true_mu = [0.00604237968,  -2.58931931, 321.011370, -4249.17075]\n",
    "# true_mu = [0.000121050008,  -0.0426197233, 3.70903363, 38.0412405, -1341.53224]\n",
    "def res_curve(x):\n",
    "#     return true_mu[0]*x**3 + true_mu[1]*x**2 + true_mu[2]*x + true_mu[3]\n",
    "#     return true_mu[0]*x**4 + true_mu[1]*x**3 + true_mu[2]*x**2 + true_mu[3]*x + true_mu[3]\n",
    "    return np.exp(true_mu[2]*x**2 +  true_mu[1]*x + true_mu[0])\n",
    "r = 200\n",
    "xs = np.arange(1, r+1, 1)\n",
    "fig = plt.figure(figsize=figsize)\n",
    "ax = fig.add_subplot(111)\n",
    "ax.plot(xs, res_curve(xs), linewidth=2, label=r\"Результат линейной регрессии обученной модели\", color='r')\n",
    "ax.scatter(xs, np.array(df['new_cases'][:r]), linewidth=2, label=r\"Данные, на которых обучались\")\n",
    "ax.legend(loc=\"upper left\", fontsize=10)\n",
    "plt.show()"
   ]
  },
  {
   "cell_type": "code",
   "execution_count": 1783,
   "id": "5a705b7c",
   "metadata": {},
   "outputs": [],
   "source": [
    "x = np.arange(1, 301, 1)"
   ]
  },
  {
   "cell_type": "code",
   "execution_count": 1788,
   "id": "1b1488fc",
   "metadata": {},
   "outputs": [],
   "source": [
    "y_pred = res_curve(x)\n",
    "y_pred[y_pred < 0] = 0\n",
    "y_pred_total = np.cumsum(y_pred)"
   ]
  },
  {
   "cell_type": "code",
   "execution_count": 1794,
   "id": "517d9bcc",
   "metadata": {},
   "outputs": [
    {
     "data": {
      "image/png": "[encoded data removed]",
      "text/plain": [
       "<Figure size 792x432 with 1 Axes>"
      ]
     },
     "metadata": {},
     "output_type": "display_data"
    }
   ],
   "source": [
    "r = 300\n",
    "xs = np.arange(1, r+1, 1)\n",
    "fig = plt.figure(figsize=figsize)\n",
    "ax = fig.add_subplot(111)\n",
    "plt.title(\"Сравнение прогноза total cases с тестовыми данными\")\n",
    "ax.plot(x, y_pred_total, linewidth=4, label=r\"Результат предсказания\", color='r')\n",
    "ax.scatter(x, np.array(df['total_cases'][:r]), linewidth=2, label=r\"Эмперические данные\")\n",
    "ax.legend(loc=\"upper left\", fontsize=10)\n",
    "plt.show()"
   ]
  },
  {
   "cell_type": "code",
   "execution_count": null,
   "id": "5689a34d",
   "metadata": {},
   "outputs": [],
   "source": [
    "def myplot_sample_lines_sigmoid(mu, sigma, n=20, points=None):\n",
    "    # Посэмплируем и порисуем прямые\n",
    "    my_w = np.random.multivariate_normal(mu, sigma, n)\n",
    "\n",
    "    for w in my_w:\n",
    "        plt.plot(xs, w[0]***2 + w[1]**xs, 'k-', lw=.6)\n",
    "    plt.ylim((-300, 300))\n",
    "    plt.xlim((0, 30))\n",
    "    if not points is None:\n",
    "        plt.scatter(points[0], points[1], marker='*', s=200)"
   ]
  }
 ],
 "metadata": {
  "kernelspec": {
   "display_name": "Python 3 (ipykernel)",
   "language": "python",
   "name": "python3"
  },
  "language_info": {
   "codemirror_mode": {
    "name": "ipython",
    "version": 3
   },
   "file_extension": ".py",
   "mimetype": "text/x-python",
   "name": "python",
   "nbconvert_exporter": "python",
   "pygments_lexer": "ipython3",
   "version": "3.9.7"
  }
 },
 "nbformat": 4,
 "nbformat_minor": 5
}
